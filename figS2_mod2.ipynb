{
 "cells": [
  {
   "cell_type": "markdown",
   "id": "bf4f5d40",
   "metadata": {},
   "source": [
    "## Code to plot Supplementary Figure 2, panel b"
   ]
  },
  {
   "cell_type": "code",
   "execution_count": null,
   "id": "eeebae24",
   "metadata": {},
   "outputs": [],
   "source": [
    "import matplotlib.pyplot as plt\n",
    "import polars as pl\n",
    "import seaborn as sns\n",
    "import numpy as np"
   ]
  },
  {
   "cell_type": "code",
   "execution_count": null,
   "id": "3df4cc93",
   "metadata": {},
   "outputs": [],
   "source": [
    "df_mod2 = pl.read_csv('./mod2_age_edu_mmse_Hipp_ratio.csv')"
   ]
  },
  {
   "cell_type": "code",
   "execution_count": null,
   "id": "b9c65293",
   "metadata": {},
   "outputs": [],
   "source": [
    "df_mod2"
   ]
  },
  {
   "cell_type": "code",
   "execution_count": null,
   "id": "ae7bddf4",
   "metadata": {},
   "outputs": [],
   "source": [
    "df_mod2 = df_mod2.sort(pl.col('AME').abs(), descending=False)"
   ]
  },
  {
   "cell_type": "code",
   "execution_count": null,
   "id": "d1fb68e9",
   "metadata": {},
   "outputs": [],
   "source": [
    "factors=df_mod2['factor'].to_list()"
   ]
  },
  {
   "cell_type": "code",
   "execution_count": null,
   "id": "8c45ff4c",
   "metadata": {},
   "outputs": [],
   "source": [
    "roc2 = pl.read_csv('./roc_data_mod2.csv')\n"
   ]
  },
  {
   "cell_type": "code",
   "execution_count": null,
   "id": "5a6634bb",
   "metadata": {},
   "outputs": [],
   "source": [
    "mapping = {\n",
    "    'age': 'Age',\n",
    "    'Edu_years': 'Education',\n",
    "     'MMSE': 'MMSE',\n",
    "     'ratio_Hippocampus_TotalGrayVol': 'Hippocampal ratio',\n",
    "     'meg_average_cluster_adj': 'MEG'\n",
    "}"
   ]
  },
  {
   "cell_type": "code",
   "execution_count": null,
   "id": "f87b6f86",
   "metadata": {},
   "outputs": [],
   "source": [
    "num_factors = len(df_mod2)\n",
    "colors = plt.cm.viridis(np.linspace(0.1, 0.9, num_factors))\n",
    "\n",
    "sns.set_context('paper', font_scale=1.5)\n",
    "\n",
    "### Panel A\n",
    "\n",
    "# Create the subplot layout with mosaic (Remove Panel B - ROC Curves)\n",
    "fig, ax = plt.subplots(1, 1, figsize=(4, 3.5))  # Adjusted size for a single panel\n",
    "\n",
    "# Plot each factor with its respective color\n",
    "for ii, (factor, ame, se, *_) in enumerate(df_mod2.rows()):\n",
    "    ax.errorbar(\n",
    "        x=ame, y=ii, xerr=se * 1.96, fmt='o', capsize=5, capthick=2.5,\n",
    "        ms=10, linewidth=3, color=colors[ii], mfc='white', mew=3\n",
    "    )\n",
    "\n",
    "ax.axvline(0, linestyle='--', color='gray')\n",
    "\n",
    "# Assuming factors is a list of all factor names in the correct order\n",
    "factors = ['Age', 'Education', 'MMSE', 'Hippocampal ratio']\n",
    "\n",
    "# Map factors using a mapping if necessary\n",
    "mapped_factors = [mapping.get(f, f) for f in factors]\n",
    "\n",
    "# Set the y-ticks with the custom order\n",
    "ax.set_yticks(range(len(factors)), mapped_factors)\n",
    "\n",
    "# Set x-ticks and labels with better scaling\n",
    "ax.set_xlim(-0.25, 0.13)  # Extend the x-axis range to make space for data points\n",
    "ax.set_xlabel(r'$\\Delta$ Predicted probability of AD progression', loc='right')\n",
    "\n",
    "# Remove the spines for cleaner look\n",
    "sns.despine(trim=True, ax=ax)\n",
    "\n",
    "# Save the figure\n",
    "fig.savefig('suppl_fig2b.pdf', bbox_inches='tight')\n",
    "fig.savefig('suppl_fig2b.png', dpi=300, bbox_inches='tight')"
   ]
  }
 ],
 "metadata": {
  "kernelspec": {
   "display_name": "Python 3",
   "language": "python",
   "name": "python3"
  },
  "language_info": {
   "codemirror_mode": {
    "name": "ipython",
    "version": 3
   },
   "file_extension": ".py",
   "mimetype": "text/x-python",
   "name": "python",
   "nbconvert_exporter": "python",
   "pygments_lexer": "ipython3",
   "version": "3.10.10"
  }
 },
 "nbformat": 4,
 "nbformat_minor": 5
}
