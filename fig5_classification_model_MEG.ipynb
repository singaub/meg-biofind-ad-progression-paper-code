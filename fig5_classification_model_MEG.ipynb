{
 "cells": [
  {
   "cell_type": "code",
   "execution_count": null,
   "id": "92d7cc2e",
   "metadata": {},
   "outputs": [],
   "source": [
    "import numpy as np\n",
    "import pandas as pd\n",
    "from joblib import Parallel, delayed\n",
    "\n",
    "import h5io\n",
    "import pandas as pd\n",
    "import pyriemann\n",
    "from meeglet import define_frequencies\n",
    "\n",
    "from sklearn.pipeline import make_pipeline\n",
    "from sklearn.preprocessing import StandardScaler\n",
    "from sklearn.model_selection import StratifiedKFold\n",
    "from sklearn.model_selection import cross_val_score\n",
    "\n",
    "import coffeine\n",
    "\n",
    "from sklearn.linear_model import RidgeClassifierCV"
   ]
  },
  {
   "cell_type": "markdown",
   "id": "d6f54e1c",
   "metadata": {},
   "source": [
    "# Import features"
   ]
  },
  {
   "cell_type": "code",
   "execution_count": null,
   "id": "751aea5b",
   "metadata": {},
   "outputs": [],
   "source": [
    "features_CBU = h5io.read_hdf5('<ADD YOUR PATH HERE>/meeglet_CBU_2023-06-22_10-06.h5')\n",
    "features_CTB1 = h5io.read_hdf5('<ADD YOUR PATH HERE>/meeglet_CTB_2023-06-22_10-46.h5')\n",
    "features_CTB2 = h5io.read_hdf5('<ADD YOUR PATH HERE>/meeglet_CTB_2023-06-23_11-04.h5')"
   ]
  },
  {
   "cell_type": "code",
   "execution_count": null,
   "id": "9967d800",
   "metadata": {},
   "outputs": [],
   "source": [
    "# merge 3 hdf5 files (key: patient, value : tuple cov, pow)\n",
    "features_all = features_CTB1 | features_CTB2 | features_CBU"
   ]
  },
  {
   "cell_type": "code",
   "execution_count": null,
   "id": "fd32589d",
   "metadata": {},
   "outputs": [],
   "source": [
    "participants_fname = './participants.tsv'\n",
    "subject_df = pd.read_csv(participants_fname, delimiter='\\t')\n",
    "subject_df['participant_id'] = subject_df['participant_id'].str.replace('sub-', '')\n",
    "# creates index (supprime la colonne participant_id et la met en index)\n",
    "subject_df = subject_df.set_index('participant_id')\n",
    "subject_df = subject_df.loc[features_all.keys()] \n",
    "subject_converter_df = subject_df.dropna(subset=['Converters']) \n",
    "feature_converter = subject_df['Converters'].fillna(-1)"
   ]
  },
  {
   "cell_type": "code",
   "execution_count": null,
   "id": "307d4b06",
   "metadata": {},
   "outputs": [],
   "source": [
    "foi = define_frequencies(foi_start=1, foi_end=64, bw_oct=0.35, delta_oct=0.05)[0]"
   ]
  },
  {
   "cell_type": "code",
   "execution_count": null,
   "id": "78c73090",
   "metadata": {},
   "outputs": [],
   "source": [
    "def make_coffeine_data_frame(\n",
    "        C: np.ndarray,\n",
    "        names = None\n",
    "        ) -> pd.DataFrame:\n",
    "    \"\"\"Put covariances in coffeine Data Frame. Copied from coffeine.\n",
    "\n",
    "    Parameters\n",
    "    ----------\n",
    "    C : np.ndarray, shape(n_obs, n_frequencies, n_channels, n_channels)\n",
    "        A 2D collection of symmetric matrices. First dimension: samples.\n",
    "        Second dimension: batches within observations (e.g. frequencies).\n",
    "    names : dict or list-like, defaults to None\n",
    "        A descriptor for the second dimension of `C`. It is used to make\n",
    "        the columns of the coffeine Data Frame\n",
    "\n",
    "    Returns\n",
    "    -------\n",
    "    C_df : pd.DataFrame\n",
    "        The DataFrame of object type with lists of covariances accessible\n",
    "        as columns.\n",
    "    \"\"\"\n",
    "    if C.ndim != 4:\n",
    "        raise ValueError(\n",
    "            f'Expected input should have 4 dimensions, not {C.ndim}'\n",
    "        )\n",
    "    if C.shape[-1] != C.shape[-2]:\n",
    "        raise ValueError(\n",
    "            'The 2nd last dimensions should be the same. '\n",
    "            f'You provided: {C.shape}.'\n",
    "        )\n",
    "    names_ = None\n",
    "    if names is None:\n",
    "        names_ = [f'c{cc}' for cc in range(C.shape[1])]\n",
    "    else:\n",
    "        names_ = names\n",
    "\n",
    "    C_df = pd.DataFrame(\n",
    "        {name: list(C[:, ii]) for ii, name in enumerate(names_)}\n",
    "    )\n",
    "    return C_df"
   ]
  },
  {
   "cell_type": "code",
   "execution_count": null,
   "id": "02c3b64d",
   "metadata": {},
   "outputs": [],
   "source": [
    "# 0 cov, 1 pow, 2 csd, 3, 4, 5 dwpli, 6 rplain\n",
    "X_dwpli = np.array([features_all[subject][5] for subject in features_all]) "
   ]
  },
  {
   "cell_type": "code",
   "execution_count": null,
   "id": "47f4afdc",
   "metadata": {},
   "outputs": [],
   "source": [
    "X_dwpli = np.nan_to_num(X_dwpli, nan = 1)\n",
    "X_dwpli= X_dwpli[feature_converter!=-1]\n",
    "X_dwpli=X_dwpli[:,:,:,::4] # divide nb of freq by 4 for saving computation resources\n",
    "X_dwpli.shape"
   ]
  },
  {
   "cell_type": "code",
   "execution_count": null,
   "id": "46401299",
   "metadata": {},
   "outputs": [],
   "source": [
    "X_covs = np.array([features_all[subject][0] for subject in features_all])\n",
    "X_covs= X_covs[feature_converter!=-1]\n",
    "X_covs=X_covs[:,:,:,::4] # divide nb of freq by 4 for saving computation resources\n",
    "X_covs.shape"
   ]
  },
  {
   "cell_type": "code",
   "execution_count": null,
   "id": "1bb05509",
   "metadata": {},
   "outputs": [],
   "source": [
    "pow = np.array([features_all[subject][1] for subject in features_all]) # 0 cov, 1 pow, 2 csd\n",
    "pow.shape"
   ]
  },
  {
   "cell_type": "code",
   "execution_count": null,
   "id": "e5ee467b",
   "metadata": {},
   "outputs": [],
   "source": [
    "X_rplain = np.array([features_all[subject][6] for subject in features_all]) # 0 cov, 1 pow, 2 csd\n",
    "X_rplain= X_rplain[feature_converter!=-1]\n",
    "X_rplain=X_rplain[:,:,:,::4] # divide nb of freq by 4\n",
    "X_rplain.shape"
   ]
  },
  {
   "cell_type": "code",
   "execution_count": null,
   "id": "33000cb7",
   "metadata": {},
   "outputs": [],
   "source": [
    "del features_all  # save memory"
   ]
  },
  {
   "cell_type": "code",
   "execution_count": null,
   "id": "5936051f",
   "metadata": {},
   "outputs": [],
   "source": [
    "X_df_covs = make_coffeine_data_frame(np.transpose(X_covs, (0, 3, 1, 2)))"
   ]
  },
  {
   "cell_type": "code",
   "execution_count": null,
   "id": "5ceae3a0",
   "metadata": {},
   "outputs": [],
   "source": [
    "X_df_dwpli = make_coffeine_data_frame(\n",
    "    np.array([pyriemann.utils.base.nearest_sym_pos_def(x.T) for x in X_dwpli.T]).transpose((1, 0, 2, 3))\n",
    ")"
   ]
  },
  {
   "cell_type": "code",
   "execution_count": null,
   "id": "2282c1f0",
   "metadata": {},
   "outputs": [],
   "source": [
    "X_df_rplain = make_coffeine_data_frame(\n",
    "    np.array([pyriemann.utils.base.nearest_sym_pos_def(x.T) for x in X_rplain.T]).transpose((1, 0, 2, 3))\n",
    ")"
   ]
  },
  {
   "cell_type": "code",
   "execution_count": null,
   "id": "b1961b89",
   "metadata": {},
   "outputs": [],
   "source": [
    "y = feature_converter[feature_converter!=-1]\n",
    "y"
   ]
  },
  {
   "cell_type": "code",
   "execution_count": null,
   "id": "cd6e350e",
   "metadata": {},
   "outputs": [],
   "source": [
    "def string_to_array(s):\n",
    "    return np.fromstring(s.strip('[]'), sep=' ', dtype=int)"
   ]
  },
  {
   "cell_type": "code",
   "execution_count": null,
   "id": "90bb5470",
   "metadata": {},
   "outputs": [],
   "source": [
    "n_splits = 10 # the number of CV splits\n",
    "n_repeat = 10 # the number of randomized repetitions to get a nicer distribution\n",
    "# Consider putting n_repeats to 1 for the beginning.\n",
    "df_cv = pd.concat([\n",
    "    pd.DataFrame(\n",
    "        list(StratifiedKFold(n_splits=n_splits, random_state=ii * 7, shuffle=True).split(X_df_rplain, y)),\n",
    "        columns=['train', 'test']).assign(rep=ii, fold_idx=range(n_splits)) for ii in range(n_repeat)]\n",
    ")    \n",
    "\n",
    "if True: # write/read test\n",
    "    df_cv.to_csv('df_cv.csv', index=False)\n",
    "    df_cv = pd.read_csv(\n",
    "        'df_cv.csv', dtype=[('train', np.ndarray), \n",
    "                            ('test', np.ndarray),\n",
    "                            ('rep', int),\n",
    "                            ('fold_idx', int)]\n",
    "    )\n",
    "    df_cv['train'] = df_cv['train'].apply(string_to_array)\n",
    "    df_cv['test'] = df_cv['test'].apply(string_to_array)\n",
    "    "
   ]
  },
  {
   "cell_type": "code",
   "execution_count": null,
   "id": "4622b024",
   "metadata": {},
   "outputs": [],
   "source": [
    "df_cv"
   ]
  },
  {
   "cell_type": "code",
   "execution_count": null,
   "id": "32786954",
   "metadata": {},
   "outputs": [],
   "source": [
    "def first_level_pred(cv_row, estimator, X, y, method='predict'):\n",
    "    train, test = cv_row['train'], cv_row['test']\n",
    "    estimator.fit(X.iloc[train], y[train])\n",
    "    preds = getattr(estimator, method)(X.iloc[test])\n",
    "    df_out = pd.DataFrame(dict(preds=preds))\n",
    "    df_out['fold_idx'] = cv_row['fold_idx']\n",
    "    df_out['repeat'] = cv_row['rep']\n",
    "    df_out['sample_index'] = test\n",
    "    return df_out"
   ]
  },
  {
   "cell_type": "code",
   "execution_count": null,
   "id": "fbfeb9df",
   "metadata": {},
   "outputs": [],
   "source": [
    "# covs\n",
    "mod_covs = make_pipeline(\n",
    "     coffeine.make_filter_bank_transformer(\n",
    "         names=X_df_covs.columns,\n",
    "         projection_params=dict(n_compo=65, reg=1e-15, scale =1),  # for SSS\n",
    "         method='riemann'\n",
    "     ),\n",
    "     StandardScaler(),\n",
    "     RidgeClassifierCV(alphas=np.logspace(-5, 10, 50)),\n",
    " )\n",
    "\n",
    "# psds\n",
    "mod_psd = make_pipeline(\n",
    "     coffeine.make_filter_bank_transformer(\n",
    "         names=X_df_covs.columns,  \n",
    "         method='log_diag'\n",
    "     ),\n",
    "     StandardScaler(),\n",
    "     RidgeClassifierCV(alphas=np.logspace(-5, 10, 50)),\n",
    " )\n",
    "\n",
    "# wpli\n",
    "mod_wpli_upper = make_pipeline(\n",
    "     coffeine.make_filter_bank_transformer(\n",
    "         names=X_df_dwpli.columns,\n",
    "         method='naive'\n",
    "     ),\n",
    "     StandardScaler(),\n",
    "     RidgeClassifierCV(alphas=np.logspace(-3, 5, 50)),\n",
    " )\n",
    "\n",
    "# rplain\n",
    "mod_rplain = make_pipeline(\n",
    "   coffeine.make_filter_bank_transformer(\n",
    "       names=X_df_rplain.columns,\n",
    "       projection_params=dict(n_compo=65, reg=1e-15, scale =1),  # for SSS\n",
    "       method='riemann'\n",
    "   ),\n",
    "StandardScaler(),\n",
    "RidgeClassifierCV(alphas=np.logspace(-3, 5, 50)),\n",
    ")\n"
   ]
  },
  {
   "cell_type": "code",
   "execution_count": null,
   "id": "99fa9887",
   "metadata": {},
   "outputs": [],
   "source": [
    "cv_check_psd = cross_val_score(   # test\n",
    "   X=X_df_covs,\n",
    "   y=y,\n",
    "   estimator=mod_psd,\n",
    "   cv=StratifiedKFold(n_splits=10, shuffle=True, random_state=10),\n",
    "   scoring='roc_auc')\n",
    "print(cv_check_psd.mean())"
   ]
  },
  {
   "cell_type": "code",
   "execution_count": null,
   "id": "bf9b8768",
   "metadata": {},
   "outputs": [],
   "source": [
    "cv_check_cov = cross_val_score(\n",
    "    X=X_df_covs,\n",
    "    y=y,\n",
    "    estimator=mod_covs,\n",
    "    cv=StratifiedKFold(n_splits=10, shuffle=True, random_state=10),\n",
    "    scoring='roc_auc')\n",
    "print(cv_check_cov.mean())"
   ]
  },
  {
   "cell_type": "code",
   "execution_count": null,
   "id": "fae20887",
   "metadata": {},
   "outputs": [],
   "source": [
    "cv_check_wpli = cross_val_score(\n",
    "    X=X_df_dwpli,\n",
    "    y=y,\n",
    "    n_jobs=4,\n",
    "    estimator=mod_wpli_upper,\n",
    "    cv=StratifiedKFold(n_splits=10, shuffle=True, random_state=10),\n",
    "    scoring='roc_auc')\n",
    "print(cv_check_wpli.mean())\n",
    "# naive model wpli score: 0.66"
   ]
  },
  {
   "cell_type": "code",
   "execution_count": null,
   "id": "f523aba4",
   "metadata": {},
   "outputs": [],
   "source": [
    "# to compute cross-val\n",
    "cv_preds_covs = Parallel(n_jobs=4)(\n",
    "    delayed(first_level_pred)(\n",
    "        cv_row=cv_row, X=X_df_covs, y=y, method='decision_function',\n",
    "        estimator=mod_covs\n",
    "    ) for ii, cv_row in df_cv.iterrows()\n",
    ")\n",
    "\n",
    "cv_preds_psd = Parallel(n_jobs=4)(\n",
    "    delayed(first_level_pred)(\n",
    "        cv_row=cv_row, X=X_df_covs, y=y, method='decision_function',\n",
    "        estimator=mod_psd\n",
    "    ) for ii, cv_row in df_cv.iterrows()\n",
    ")\n",
    "\n",
    "cv_preds_wpli = Parallel(n_jobs=4)(\n",
    "    delayed(first_level_pred)(\n",
    "        cv_row=cv_row, X=X_df_dwpli, y=y, method='decision_function',\n",
    "        estimator= mod_wpli_upper\n",
    "    ) for ii, cv_row in df_cv.iterrows()\n",
    ")\n",
    "\n",
    "cv_preds_rplain = Parallel(n_jobs=4)(\n",
    "   delayed(first_level_pred)(\n",
    "       cv_row=cv_row, X=X_df_rplain, y=y, method='decision_function',\n",
    "       estimator=mod_rplain\n",
    "   ) for ii, cv_row in df_cv.iterrows()\n",
    ")"
   ]
  },
  {
   "cell_type": "code",
   "execution_count": null,
   "id": "525653cc",
   "metadata": {},
   "outputs": [],
   "source": [
    "cv_preds_rplain[0].head()"
   ]
  },
  {
   "cell_type": "code",
   "execution_count": null,
   "id": "8708ef34",
   "metadata": {},
   "outputs": [],
   "source": [
    "## sauvegarde en csv, décommenter en fonction de la métrique étudiée\n",
    "pd.concat(cv_preds_covs).rename(columns={'preds': 'covs'}).to_csv('./cv_preds_covs.csv')\n",
    "pd.concat(cv_preds_psd).rename(columns={'preds': 'psd'}).to_csv('./cv_preds_psd.csv')\n",
    "pd.concat(cv_preds_wpli).rename(columns={'preds': 'wpli'}).to_csv('./cv_preds_wpli_upper.csv')\n",
    "pd.concat(cv_preds_rplain).rename(columns={'preds': 'rplain'}).to_csv('./cv_preds_rplain_reg.csv')"
   ]
  }
 ],
 "metadata": {
  "kernelspec": {
   "display_name": "Python 3",
   "language": "python",
   "name": "python3"
  },
  "language_info": {
   "codemirror_mode": {
    "name": "ipython",
    "version": 3
   },
   "file_extension": ".py",
   "mimetype": "text/x-python",
   "name": "python",
   "nbconvert_exporter": "python",
   "pygments_lexer": "ipython3",
   "version": "3.10.10"
  }
 },
 "nbformat": 4,
 "nbformat_minor": 5
}
