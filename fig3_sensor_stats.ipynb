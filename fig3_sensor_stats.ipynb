{
 "cells": [
  {
   "cell_type": "markdown",
   "id": "8b6aa079",
   "metadata": {},
   "source": [
    "## Code for Figure 3"
   ]
  },
  {
   "cell_type": "code",
   "execution_count": null,
   "id": "736bbb05",
   "metadata": {},
   "outputs": [],
   "source": [
    "import mne\n",
    "import numpy as np\n",
    "import matplotlib.pyplot as plt\n",
    "import h5io\n",
    "import pandas as pd\n",
    "import seaborn as sns\n",
    "import statsmodels.api as sm\n",
    "\n",
    "from meeglet import define_frequencies\n",
    "from mne.viz.topomap import _prepare_topomap_plot, _make_head_outlines\n",
    "from mpl_toolkits.axes_grid1 import ImageGrid\n",
    "\n",
    "from scipy import io\n",
    "from scipy.stats import bootstrap, permutation_test"
   ]
  },
  {
   "cell_type": "code",
   "execution_count": null,
   "id": "dfc76e65",
   "metadata": {},
   "outputs": [],
   "source": [
    "foi = define_frequencies(foi_start=1, foi_end=64, bw_oct=0.35, delta_oct=0.05)[0]"
   ]
  },
  {
   "cell_type": "code",
   "execution_count": null,
   "id": "b8c3841f",
   "metadata": {},
   "outputs": [],
   "source": [
    "sample_data_folder = mne.datasets.sample.data_path()\n",
    "sample_data_raw_file = (\n",
    "    sample_data_folder / \"MEG\" / \"sample\" / \"sample_audvis_filt-0-40_raw.fif\"\n",
    ")\n",
    "raw_for_adjacency = mne.io.read_raw_fif(sample_data_raw_file)\n",
    "meg_indices = raw_for_adjacency.pick_types(meg='mag')\n",
    "adj_matrix = mne.channels.find_ch_adjacency(raw_for_adjacency.info, 'mag')[0]"
   ]
  },
  {
   "cell_type": "markdown",
   "id": "26fe2621",
   "metadata": {},
   "source": [
    "### GROUP LEVEL STATISTICS"
   ]
  },
  {
   "cell_type": "markdown",
   "id": "fdcb2dd4",
   "metadata": {},
   "source": [
    "### all features"
   ]
  },
  {
   "cell_type": "code",
   "execution_count": null,
   "id": "c8b0e836",
   "metadata": {},
   "outputs": [],
   "source": [
    "features_CBU = h5io.read_hdf5('./BIOFIND/cosmeeg_CBU_2023-06-22_10-06.h5')\n",
    "features_CTB1 = h5io.read_hdf5('./BIOFIND/cosmeeg_CTB_2023-06-22_10-46.h5')\n",
    "features_CTB2 = h5io.read_hdf5('./BIOFIND/cosmeeg_CTB_2023-06-23_11-04.h5')"
   ]
  },
  {
   "cell_type": "code",
   "execution_count": null,
   "id": "1f27fceb",
   "metadata": {},
   "outputs": [],
   "source": [
    "features_all = features_CTB1 | features_CTB2 | features_CBU #merge 3 hdf5 files (key: patient, value : tuple cov, pow)"
   ]
  },
  {
   "cell_type": "markdown",
   "id": "075a2d29",
   "metadata": {},
   "source": [
    "# Build groups"
   ]
  },
  {
   "cell_type": "code",
   "execution_count": null,
   "id": "1924aca6",
   "metadata": {},
   "outputs": [],
   "source": [
    "participants_fname = './participants.tsv'\n",
    "subject_df = pd.read_csv(participants_fname, delimiter='\\t')\n",
    "subject_df['participant_id'] = subject_df['participant_id'].str.replace('sub-', '')\n",
    "subject_df = subject_df.set_index('participant_id')"
   ]
  },
  {
   "cell_type": "code",
   "execution_count": null,
   "id": "fbe2b425",
   "metadata": {},
   "outputs": [],
   "source": [
    "subject_df = subject_df.loc[features_all.keys()]"
   ]
  },
  {
   "cell_type": "code",
   "execution_count": null,
   "id": "8d60b0b4",
   "metadata": {},
   "outputs": [],
   "source": [
    "feature_converter = subject_df['Converters'].fillna(-1)"
   ]
  },
  {
   "cell_type": "markdown",
   "id": "f77c8b9f",
   "metadata": {},
   "source": [
    "## import power envelope"
   ]
  },
  {
   "cell_type": "code",
   "execution_count": null,
   "id": "9812df50",
   "metadata": {},
   "outputs": [],
   "source": [
    "r_plain = np.array([features_all[subject][6] for subject in features_all])\n",
    "r_plain.shape"
   ]
  },
  {
   "cell_type": "code",
   "execution_count": null,
   "id": "3275035f",
   "metadata": {},
   "outputs": [],
   "source": [
    "del features_all, features_CBU, features_CTB1, features_CTB2"
   ]
  },
  {
   "cell_type": "markdown",
   "id": "2b77d2bb",
   "metadata": {},
   "source": [
    "## ANALYSIS"
   ]
  },
  {
   "cell_type": "markdown",
   "id": "f03bbe95",
   "metadata": {},
   "source": [
    "## power envelope for converters vs non converters"
   ]
  },
  {
   "cell_type": "code",
   "execution_count": null,
   "id": "ab7d5ce9",
   "metadata": {},
   "outputs": [],
   "source": [
    "plt.rcParams['font.size'] = 11\n",
    "fig, axes = plt.subplots(1,1, figsize=[3.6,1.4],sharey=True)\n",
    "r_plain_converter = np.mean(np.mean(np.mean(r_plain[np.array(feature_converter) == 1], 0),0),0)\n",
    "r_plain_non_converter = np.mean(np.mean(np.mean(r_plain[np.array(feature_converter) == 0], 0),0),0)\n",
    "plt.plot(foi, r_plain_converter, label='AD progression', linewidth = 3)\n",
    "plt.plot(foi, r_plain_non_converter, label='Stable MCI', linewidth=3)\n",
    "\n",
    "# Remove the legend frame\n",
    "legend = plt.legend(loc='lower left', bbox_to_anchor=(-0.07, -0.16))\n",
    "frame = legend.get_frame()\n",
    "frame.set_linewidth(0) \n",
    "plt.xlabel('Frequencies (Hz)')\n",
    "plt.ylabel('Correlation')\n",
    "plt.xscale('log', base =2)\n",
    "plt.xticks([1,2,4,8,16,32,64],labels = [1,2,4,8,16,32,64])\n",
    "plt.ylim(0.00,0.20)\n",
    "\n",
    "#plt.xticks(plt.xticks()[0][2:-2], labels = foi[::20])\n",
    "sns.despine(offset=10, trim=True);\n",
    "plt.title('Average power envelope correlation', y=1.05, fontsize=11)\n",
    "plt.savefig('./figures/figure3a.pdf', dpi=300, bbox_inches='tight')"
   ]
  },
  {
   "cell_type": "markdown",
   "id": "6d704e46",
   "metadata": {},
   "source": [
    "## power envelope for converters vs non converters"
   ]
  },
  {
   "cell_type": "code",
   "execution_count": null,
   "id": "af9a9a1d",
   "metadata": {},
   "outputs": [],
   "source": [
    "subject_df_adjust3 = subject_df.copy()\n",
    "subject_df_adjust3['Converters'] = subject_df_adjust3['Converters'].fillna(-1)\n",
    "converters_idx = subject_df_adjust3['Converters'] >= 0"
   ]
  },
  {
   "cell_type": "code",
   "execution_count": null,
   "id": "10861e4c",
   "metadata": {},
   "outputs": [],
   "source": [
    "r_plain_clean_converter = np.mean(np.mean(r_plain[converters_idx], 1), 1)\n",
    "r_plain_clean_mean_converter = r_plain_clean_converter\n",
    "r_plain_clean_converter.shape"
   ]
  },
  {
   "cell_type": "markdown",
   "id": "c7d9b034",
   "metadata": {},
   "source": [
    "## Permutation F-test on sensor data averaged over all sensors"
   ]
  },
  {
   "cell_type": "code",
   "execution_count": null,
   "id": "f33f9f39",
   "metadata": {},
   "outputs": [],
   "source": [
    "data_condition_1 = r_plain_clean_mean_converter[np.array(feature_converter[feature_converter >= 0]) == 0]\n",
    "data_condition_2 = r_plain_clean_mean_converter[np.array(feature_converter[feature_converter >= 0]) == 1]\n",
    "\n",
    "X = [data_condition_1, data_condition_2]"
   ]
  },
  {
   "cell_type": "markdown",
   "id": "8f2dcc13",
   "metadata": {},
   "source": [
    "## Spatiotemporal TFCE permutation F-test on full sensor data"
   ]
  },
  {
   "cell_type": "code",
   "execution_count": null,
   "id": "d843dd89",
   "metadata": {},
   "outputs": [],
   "source": [
    "T_obs, clusters, cluster_p_values, H0 = mne.stats.permutation_cluster_test(\n",
    "    [data_condition_2, data_condition_1],\n",
    "    threshold=dict(start=0, step=0.2),\n",
    "    n_jobs = None, n_permutations = 10000, \n",
    "    tail=0, out_type=\"mask\"\n",
    ")"
   ]
  },
  {
   "cell_type": "code",
   "execution_count": null,
   "id": "6e416108",
   "metadata": {},
   "outputs": [],
   "source": [
    "print(cluster_p_values)"
   ]
  },
  {
   "cell_type": "markdown",
   "id": "f92440d5",
   "metadata": {},
   "source": [
    "### Vizualization"
   ]
  },
  {
   "cell_type": "code",
   "execution_count": null,
   "id": "00e4c6b9",
   "metadata": {},
   "outputs": [],
   "source": [
    "rng = np.random.RandomState(23)\n",
    "\n",
    "def my_statistic(sample1, sample2, axis=0):\n",
    "    statistic = np.mean(sample1) - np.mean(sample2)\n",
    "    return statistic\n",
    "\n",
    "condition1 = data_condition_1\n",
    "condition2 = data_condition_2\n",
    "\n",
    "results = list()\n",
    "\n",
    "for ii in range(condition2.shape[1]):\n",
    "    data = (condition2[:, ii], condition1[:, ii])\n",
    "    res = bootstrap(data, my_statistic, method='basic', random_state=rng, vectorized=False)\n",
    "    results.append(res)    \n",
    "\n",
    "conf_ints = np.array([tuple(res.confidence_interval) for res in results])\n",
    "conf_ints.shape"
   ]
  },
  {
   "cell_type": "code",
   "execution_count": null,
   "id": "3293424c",
   "metadata": {},
   "outputs": [],
   "source": [
    "plt.rcParams['font.size'] = 11\n",
    "\n",
    "# mean r_plain difference\n",
    "mean_difference = condition2.mean(axis=0) - condition1.mean(axis=0)\n",
    "\n",
    "# IC95 for the difference\n",
    "upper_bound = conf_ints[:,1]\n",
    "lower_bound = conf_ints[:,0]\n",
    "\n",
    "fig, ax = plt.subplots(1, 1, figsize=[3.6,1.4], sharey=True)\n",
    "ax.set_title('Power envelope difference', fontsize = 11, y=1.05)\n",
    "ax.set_xscale('log', base=2)\n",
    "ax.spines['top'].set_visible(False)\n",
    "ax.spines['right'].set_visible(False)\n",
    "xticks = [1, 2, 4, 8, 16, 32, 64]\n",
    "ax.set_xticks(xticks)\n",
    "ax.set_xticklabels(xticks)\n",
    "#ax.set_ylim(-0.05, 0.04)\n",
    "plt.ylim(-0.05,0.05)\n",
    "ax.set_xlim(1, 64)\n",
    "ax.axhline(0, color='black', linestyle= \"--\")\n",
    "sns.despine(offset=10, trim=False);\n",
    "\n",
    "# Plot the mean difference\n",
    "line = ax.plot(\n",
    "    foi,\n",
    "    mean_difference,\n",
    "    label=\"Mean Difference\"\n",
    ")\n",
    "\n",
    "# Fill the area between upper and lower CI bounds\n",
    "ax.fill_between(foi,upper_bound, lower_bound, alpha=0.5, label=\"95% CI\")\n",
    "\n",
    "ax.set_ylabel(\"Difference\")\n",
    "ax.set_xlabel(\"Frequencies (Hz)\")\n",
    "\n",
    "plt.savefig('./figures/figure3b.pdf', dpi=300, bbox_inches='tight')"
   ]
  },
  {
   "cell_type": "code",
   "execution_count": null,
   "id": "56831a0c",
   "metadata": {},
   "outputs": [],
   "source": [
    "# Assuming `foi`, `T_obs`, and `cluster_p_values` are defined\n",
    "mask = cluster_p_values <= 0.25\n",
    "\n",
    "plt.rcParams['font.size'] = 11\n",
    "fig, ax2 = plt.subplots(1, 1, figsize=[3.6,1.4], sharey=True)\n",
    "ax2.set_title('Permutation F-test on power envelope', fontsize = 11, y=1.1)\n",
    "\n",
    "# Plot the main black line\n",
    "hf, = ax2.plot(foi, T_obs, \"black\")\n",
    "\n",
    "# Find contiguous regions of significant frequencies\n",
    "inside_cluster = False\n",
    "fill_plotted = False  # Flag to track if the green fill has already been labeled\n",
    "\n",
    "for i in range(len(foi)):\n",
    "    if mask[i] and not inside_cluster:\n",
    "        start_idx = i\n",
    "        inside_cluster = True\n",
    "    elif not mask[i] and inside_cluster:\n",
    "        end_idx = i\n",
    "        # Fill between for this cluster region\n",
    "        if not fill_plotted:\n",
    "            ax2.fill_between(foi[start_idx:end_idx], y1=T_obs[start_idx:end_idx], y2=0, \n",
    "                             color=\"green\", label='cluster P < 0.25', alpha=0.3)\n",
    "            fill_plotted = True  # Set flag to True so that the label is only used once\n",
    "        else:\n",
    "            ax2.fill_between(foi[start_idx:end_idx], y1=T_obs[start_idx:end_idx], y2=0, \n",
    "                             color=\"green\", alpha=0.3)\n",
    "        inside_cluster = False\n",
    "# If a cluster goes till the end of the data\n",
    "if inside_cluster:\n",
    "    if not fill_plotted:\n",
    "        ax2.fill_between(foi[start_idx:], y1=T_obs[start_idx:], y2=0, color=\"green\", alpha=0.3, label='P < 0.10')\n",
    "    else:\n",
    "        ax2.fill_between(foi[start_idx:], y1=T_obs[start_idx:], y2=0, color=\"green\", alpha=0.3)\n",
    "\n",
    "# Set axes labels and scales\n",
    "ax2.set_xlabel(\"Frequencies (Hz)\")\n",
    "ax2.set_ylabel(\"F-values\")\n",
    "ax2.set_xscale('log', base=2)\n",
    "xticks = [1, 2, 4, 8, 16, 32, 64]\n",
    "ax2.set_xticks(xticks)\n",
    "ax2.set_xlim(1, 64)\n",
    "ax2.set_ylim(0,1.5)\n",
    "ax2.set_xticklabels(xticks)\n",
    "\n",
    "# Customize appearance and remove unnecessary spines\n",
    "ax2.spines['top'].set_visible(False)\n",
    "ax2.spines['right'].set_visible(False)\n",
    "sns.despine(offset=5, trim=False)\n",
    "\n",
    "# Add the legend\n",
    "ax2.legend(loc='upper right', bbox_to_anchor=(1.1, 1.15), ncol=2, fontsize=10, frameon=False)\n",
    "\n",
    "# Save the figure\n",
    "plt.savefig('./figures/figure3c.pdf', bbox_inches='tight')"
   ]
  },
  {
   "cell_type": "code",
   "execution_count": null,
   "id": "45c30f7a",
   "metadata": {},
   "outputs": [],
   "source": [
    "# print significant frequencies for clusters\n",
    "print(foi[mask])"
   ]
  },
  {
   "cell_type": "markdown",
   "id": "00273f14",
   "metadata": {},
   "source": [
    "### Non parametric two-tailed permutation test (uncorrected for multiple comparisons) to find frequencies with p-val < 0.05 "
   ]
  },
  {
   "cell_type": "code",
   "execution_count": null,
   "id": "01252995",
   "metadata": {},
   "outputs": [],
   "source": [
    "r_plain_converter = np.mean(r_plain[converters_idx],1)"
   ]
  },
  {
   "cell_type": "code",
   "execution_count": null,
   "id": "9b8b5357",
   "metadata": {},
   "outputs": [],
   "source": [
    "r_plain_cluster_converters = r_plain_converter[feature_converter[converters_idx] == 1]\n",
    "r_plain_cluster_nonconverters = r_plain_converter[feature_converter[converters_idx] == 0]\n",
    "r_plainT = r_plain_converter.transpose(0,2,1) # converter/non\n",
    "r_plainT.shape"
   ]
  },
  {
   "cell_type": "code",
   "execution_count": null,
   "id": "ec3d2792",
   "metadata": {},
   "outputs": [],
   "source": [
    "rng = np.random.RandomState(23)\n",
    "\n",
    "# Define custom statistic function: difference of means\n",
    "def my_statistic(sample1, sample2, axis=0):\n",
    "    return np.mean(sample1, axis=axis) - np.mean(sample2, axis=axis)\n",
    "\n",
    "# Generate or define condition1 and condition2 data arrays\n",
    "condition1 = np.mean(r_plainT[feature_converter[converters_idx] == 0], axis=2)\n",
    "condition2 = np.mean(r_plainT[feature_converter[converters_idx] == 1], axis=2)\n",
    "\n",
    "# Initialize list to store indices of features with significant p-values\n",
    "significant_indices = []\n",
    "\n",
    "# Loop through each feature to perform permutation test\n",
    "for i in range(condition1.shape[1]):\n",
    "    # Extract data for the current feature from both conditions\n",
    "    data = (condition1[:, i], condition2[:, i])\n",
    "    \n",
    "    # Perform permutation test\n",
    "    res = permutation_test(data, my_statistic, vectorized=True, random_state=rng)\n",
    "    \n",
    "    # If p-value < 0.05, add the feature index to the list of significant features\n",
    "    if res.pvalue < 0.05:\n",
    "        significant_indices.append(i)\n",
    "\n",
    "# Print the indices of features with p-value below 0.05\n",
    "print(\"Indices with p-value below 0.05:\", significant_indices)\n"
   ]
  },
  {
   "cell_type": "code",
   "execution_count": null,
   "id": "7a8a7cbc",
   "metadata": {},
   "outputs": [],
   "source": [
    "foi[significant_indices]"
   ]
  },
  {
   "cell_type": "markdown",
   "id": "a11757f1",
   "metadata": {},
   "source": [
    "## topographical maps, permutation cluster test"
   ]
  },
  {
   "cell_type": "code",
   "execution_count": null,
   "id": "b949fedb",
   "metadata": {},
   "outputs": [],
   "source": [
    "# cluster permutation test with TFCE keeping channel info and frequencies info\n",
    "F, c, alpha, h = mne.stats.spatio_temporal_cluster_test([\n",
    "    r_plainT[feature_converter[converters_idx] == 0],\n",
    "    r_plainT[feature_converter[converters_idx] == 1]\n",
    "    ],\n",
    "    threshold = dict (start = 0, step = 0.2),\n",
    "    n_jobs = 4,\n",
    "    tail=0,\n",
    "    n_permutations = 10000,\n",
    "    adjacency = adj_matrix\n",
    ")"
   ]
  },
  {
   "cell_type": "code",
   "execution_count": null,
   "id": "57e03756",
   "metadata": {},
   "outputs": [],
   "source": [
    "p_clust = np.zeros((r_plainT.shape[1],r_plainT.shape[2])) # init p_clust, shape freq, channels\n",
    "for cl, p in zip(c, alpha): # fills in p_clust array \n",
    "    p_clust[cl]=-np.log10(p)\n",
    "p_clust.shape\n",
    "mask = np.ones_like(p_clust, dtype = bool)\n",
    "mask[p_clust<1.3] = False"
   ]
  },
  {
   "cell_type": "code",
   "execution_count": null,
   "id": "ef205197",
   "metadata": {},
   "outputs": [],
   "source": [
    "idx = np.where(mask.sum(axis=1)>0)[0] \n",
    "print(idx[::6]) # utilise un pas de 6"
   ]
  },
  {
   "cell_type": "code",
   "execution_count": null,
   "id": "8e130462",
   "metadata": {},
   "outputs": [],
   "source": [
    "r_plain_converters = r_plain_converter[feature_converter[converters_idx] == 1]\n",
    "r_plain_nonconverters = r_plain_converter[feature_converter[converters_idx] == 0]\n",
    "r_plain_converters_mean = np.mean(r_plain_converters, 0)\n",
    "r_plain_nonconverters_mean = np.mean(r_plain_nonconverters, 0)"
   ]
  },
  {
   "cell_type": "markdown",
   "id": "ad3a9c78",
   "metadata": {},
   "source": [
    "## topoplots"
   ]
  },
  {
   "cell_type": "code",
   "execution_count": null,
   "id": "eb74e75a",
   "metadata": {},
   "outputs": [],
   "source": [
    "def topoplot(    \n",
    "    data,  # 1D array or list with values corresponding to the channels in channel_names\n",
    "    channel_names, # list of channel names, e.g. [\"Fp1\", \"Fp2\", ...]\n",
    "    info,  \n",
    "    montage = \"standard_1020\",\n",
    "    cmap='RdBu_r',\n",
    "    scale_limits=(None, None),  # useful to plot several topographies on the same scale\n",
    "    size=1,  # size of the topoplot\n",
    "    axes=None,\n",
    "    mask=None,\n",
    "):\n",
    "    assert len(data) == len(channel_names)\n",
    "\n",
    "    _, pos, _, _, ch_type, sphere_, clip_origin = _prepare_topomap_plot(\n",
    "        info,\n",
    "        \"mag\",\n",
    "        sphere=(0, 0.023, 0.021, 0.1)\n",
    "    )\n",
    "    \n",
    "    outlines_ = _make_head_outlines(sphere_, pos, 'head', clip_origin)\n",
    "    \n",
    "    im, cn = mne.viz.plot_topomap(\n",
    "        data=data, \n",
    "        pos=pos, \n",
    "        axes=axes,\n",
    "        vlim = scale_limits,\n",
    "        cmap=cmap,\n",
    "        outlines=outlines_,\n",
    "        image_interp='cubic',\n",
    "        size=size,\n",
    "        mask=mask,\n",
    "        show=False,\n",
    "    )\n",
    "\n",
    "    return im, cn\n",
    "\n",
    "def plot_topoplot_grid(\n",
    "    data, # data[i][j] contains a 1D list or array with data for the topo plot in row i and col j\n",
    "    info, \n",
    "    row_labels,  # list of row labels that describe the rows in data, e.g. [\"Condition 1\", \"Condition 2\"]\n",
    "    col_labels,  # list of col labels that describe the cols in data, e.g. [\"Alpha\" ,\"Beta\", \"Gamma\"]\n",
    "    channel_names,  # channel labels in corresponding order to the 1D lists or arrays in data\n",
    "    cbar_mode=\"single\",  # \"single\" for shared scale, \"each\" for individual scales\n",
    "    cbar_label=r\"$10\\times\\log_{10}fT^2/Hz$[dB]\",  # label for the color bar,\n",
    "    #cbar_label=r\"dB\",\n",
    "    cmap='RdBu_r',\n",
    "    scale_limits=(None, None),\n",
    "    mask=None,\n",
    "):\n",
    "    # Figure Grid Params\n",
    "    x_label_size=12\n",
    "    y_label_size=12\n",
    "    x_label_pad=10\n",
    "    y_label_pad=10\n",
    "    \n",
    "    cbar_fmt='%3.2f'\n",
    "    cbar_size=\"5%\"\n",
    "    cbar_pad=0.1 if cbar_mode == \"each\" else 0.8\n",
    "    axes_pad=(0.9 if cbar_mode == \"each\" else 0.4 , 0.4)\n",
    "    clabel_size=10\n",
    "    fig_size=(12, 4)\n",
    "    rect=(0.05, 0.05, 0.90, 0.95)\n",
    "\n",
    "    nrows = len(data)\n",
    "    ncols = len(data[0])\n",
    "\n",
    "    fig = plt.figure(figsize=fig_size)\n",
    "    grid = ImageGrid(\n",
    "        fig, rect,\n",
    "        nrows_ncols=(nrows, ncols),\n",
    "        axes_pad=axes_pad, share_all=True, cbar_location=\"right\",\n",
    "        cbar_mode=cbar_mode, cbar_size=cbar_size, cbar_pad=cbar_pad,\n",
    "    )\n",
    "\n",
    "    \n",
    "    if cbar_mode == \"single\" and scale_limits == (None, None):\n",
    "        scale_limits = np.array(data).min(), np.array(data).max()\n",
    "    elif cbar_mode == \"each\" and scale_limits == \"columns\":\n",
    "        mins = np.min(np.hstack(data), axis=1)\n",
    "        maxs = np.max(np.hstack(data), axis=1)\n",
    " \n",
    "    scale_limits_ = scale_limits\n",
    "    axes = grid.axes_row\n",
    "    for row, row_label in enumerate(row_labels):\n",
    "        for col, col_label in enumerate(col_labels):\n",
    "            ax = axes[row][col]\n",
    "            if cbar_mode == \"each\" and scale_limits == \"columns\":\n",
    "                scale_limits_ = [mins[col], maxs[col]]\n",
    "            im, _ = topoplot(data[row][col], channel_names, info, scale_limits=scale_limits_,\n",
    "                             axes=ax,\n",
    "                             cmap=cmap,\n",
    "                             mask= None if mask is None else mask[row][col])\n",
    "\n",
    "            ax.set_xlabel(col_label, fontsize=x_label_size, labelpad=x_label_pad)\n",
    "            ax.set_ylabel(row_label, fontsize=y_label_size, labelpad=y_label_pad)\n",
    "\n",
    "            cbar = ax.cax.colorbar(im)\n",
    "            cbar.ax.set_ylabel(cbar_label, fontsize=clabel_size)\n",
    "            ax.cax.toggle_label(True)\n",
    "     \n",
    "    return fig"
   ]
  },
  {
   "cell_type": "code",
   "execution_count": null,
   "id": "3e427e9a",
   "metadata": {},
   "outputs": [],
   "source": [
    "def min_max(c):\n",
    "    this_min, this_max = np.min(c), np.max(c)\n",
    "    my_max = max(abs(this_min), abs(this_max))\n",
    "    return my_max"
   ]
  },
  {
   "cell_type": "code",
   "execution_count": null,
   "id": "83b20acd",
   "metadata": {},
   "outputs": [],
   "source": [
    "difference = np.squeeze(np.array([r_plain_converters_mean - r_plain_nonconverters_mean]))\n",
    "\n",
    "data_diff = [\n",
    "    [difference[:, ix] for ix in [5, 13, 39, 62, 116]],\n",
    "]\n",
    "mask_grid = [\n",
    "    [mask.T[:, ix] for ix in [5, 13, 39, 62, 116]],\n",
    "]\n",
    "row_labels = [\"Difference\"]\n",
    "col_labels = [\"1.2 Hz\", \"1.6 Hz\", \"3.9 Hz\", \"8.6 Hz\", \"55.7 Hz\"]\n",
    "channel_names = raw_for_adjacency.info.ch_names\n",
    "\n",
    "fig = plot_topoplot_grid(data_diff, raw_for_adjacency.info, row_labels, col_labels, channel_names, scale_limits = [lambda x: -min_max(x), min_max],\n",
    "                         cbar_mode=\"single\", mask=mask_grid,\n",
    "                         );\n",
    "fig.set_size_inches(10, 5)\n",
    "plt.savefig('./figures/figure3_topoplot.pdf', dpi=300, bbox_inches='tight')"
   ]
  }
 ],
 "metadata": {
  "kernelspec": {
   "display_name": "Python 3",
   "language": "python",
   "name": "python3"
  },
  "language_info": {
   "codemirror_mode": {
    "name": "ipython",
    "version": 3
   },
   "file_extension": ".py",
   "mimetype": "text/x-python",
   "name": "python",
   "nbconvert_exporter": "python",
   "pygments_lexer": "ipython3",
   "version": "3.10.10"
  }
 },
 "nbformat": 4,
 "nbformat_minor": 5
}
