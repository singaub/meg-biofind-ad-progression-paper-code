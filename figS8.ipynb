{
 "cells": [
  {
   "cell_type": "markdown",
   "id": "bc78d393",
   "metadata": {},
   "source": [
    "## Code for Suppl Fig 8"
   ]
  },
  {
   "cell_type": "code",
   "execution_count": null,
   "id": "a825cfda",
   "metadata": {},
   "outputs": [],
   "source": [
    "# using kernel .mne-python (Python 3.10.10)\n",
    "import numpy as np\n",
    "import matplotlib.pyplot as plt\n",
    "import seaborn as sns\n",
    "import scipy.stats as stats\n",
    "import pandas as pd\n",
    "\n",
    "\n",
    "import mne\n",
    "\n",
    "import h5io\n",
    "\n",
    "from meeglet import define_frequencies\n"
   ]
  },
  {
   "cell_type": "markdown",
   "id": "3524832d",
   "metadata": {},
   "source": [
    " Create adjacency matrix"
   ]
  },
  {
   "cell_type": "code",
   "execution_count": null,
   "id": "c93943a0",
   "metadata": {},
   "outputs": [],
   "source": [
    "sample_data_folder = mne.datasets.sample.data_path()\n",
    "sample_data_raw_file = (\n",
    "    str(sample_data_folder) + \"/MEG/sample/sample_audvis_filt-0-40_raw.fif\"\n",
    ")\n",
    "raw_for_adjacency = mne.io.read_raw_fif(sample_data_raw_file)\n",
    "meg_indices = raw_for_adjacency.pick_types(meg='mag')\n",
    "adj_matrix = mne.channels.find_ch_adjacency(raw_for_adjacency.info, 'mag')[0]"
   ]
  },
  {
   "cell_type": "code",
   "execution_count": null,
   "id": "3a67b3d0",
   "metadata": {},
   "outputs": [],
   "source": [
    "foi = define_frequencies(foi_start=1, foi_end=64, bw_oct=0.35, delta_oct=0.05)[0]"
   ]
  },
  {
   "cell_type": "markdown",
   "id": "8c248d90",
   "metadata": {},
   "source": [
    "### IMPORT FEATURES"
   ]
  },
  {
   "cell_type": "code",
   "execution_count": null,
   "id": "0af66d25",
   "metadata": {},
   "outputs": [],
   "source": [
    "features_CBU = h5io.read_hdf5('./BIOFIND/cosmeeg_CBU_2023-06-22_10-06.h5')\n",
    "features_CTB1 = h5io.read_hdf5('./BIOFIND/cosmeeg_CTB_2023-06-22_10-46.h5')\n",
    "features_CTB2 = h5io.read_hdf5('./BIOFIND/cosmeeg_CTB_2023-06-23_11-04.h5')"
   ]
  },
  {
   "cell_type": "code",
   "execution_count": null,
   "id": "6d8a5dc0",
   "metadata": {},
   "outputs": [],
   "source": [
    "features_all = features_CTB1 | features_CTB2 | features_CBU #merge 3 hdf5 files (key: patient, value : tuple cov, pow)"
   ]
  },
  {
   "cell_type": "code",
   "execution_count": null,
   "id": "b7ad62be",
   "metadata": {},
   "outputs": [],
   "source": [
    "features_all.keys()\n",
    "features_all['Sub0014'][1].shape"
   ]
  },
  {
   "cell_type": "code",
   "execution_count": null,
   "id": "c3e8a8c9",
   "metadata": {},
   "outputs": [],
   "source": [
    "pow = np.array([features_all[subject][1] for subject in features_all]) # 0 cov, 1 pow, 2 csd\n",
    "pow.shape"
   ]
  },
  {
   "cell_type": "code",
   "execution_count": null,
   "id": "a634aa6c",
   "metadata": {
    "scrolled": true
   },
   "outputs": [],
   "source": [
    "participants_fname = './participants.tsv'\n",
    "subject_df = pd.read_csv(participants_fname, delimiter='\\t')\n",
    "subject_df['participant_id'] = subject_df['participant_id'].str.replace('sub-', '')\n",
    "subject_df = subject_df.set_index('participant_id') # creates index"
   ]
  },
  {
   "cell_type": "markdown",
   "id": "332596e8",
   "metadata": {},
   "source": [
    "### Build subject groups"
   ]
  },
  {
   "cell_type": "code",
   "execution_count": null,
   "id": "61563292",
   "metadata": {},
   "outputs": [],
   "source": [
    "mean_mmse = subject_df['MMSE'].mean()\n",
    "subject_df['MMSE'] = subject_df['MMSE'].fillna(mean_mmse)\n",
    "mean_edu = subject_df['Edu_years'].mean()\n",
    "subject_df['Edu_years'] = subject_df['Edu_years'].fillna(mean_edu)"
   ]
  },
  {
   "cell_type": "code",
   "execution_count": null,
   "id": "8b5bda24",
   "metadata": {},
   "outputs": [],
   "source": [
    "subject_df = subject_df.loc[features_all.keys()]\n",
    "subject_df.head()"
   ]
  },
  {
   "cell_type": "markdown",
   "id": "1c2662fe",
   "metadata": {},
   "source": [
    "# Analysis PSD\n"
   ]
  },
  {
   "cell_type": "code",
   "execution_count": null,
   "id": "023929df",
   "metadata": {},
   "outputs": [],
   "source": [
    "feature_mmse = list(subject_df['MMSE'])\n",
    "feature_control = [ 1 if is_control else 0 for is_control in subject_df['group'] == 'control']\n",
    "feature_converter = subject_df['Converters'].fillna(-1)"
   ]
  },
  {
   "cell_type": "code",
   "execution_count": null,
   "id": "53eb0f38",
   "metadata": {},
   "outputs": [],
   "source": [
    "psds = np.array([features_all[subject][1] for subject in features_all]) # 0 cov, 1 pow, 2 csd\n",
    "psds = 10*np.log10(psds) #dB\n",
    "psds_mean_chan = np.mean(psds, 1) #mean over channels\n",
    "psds_mean_chan.shape"
   ]
  },
  {
   "cell_type": "code",
   "execution_count": null,
   "id": "b72dd8e6",
   "metadata": {},
   "outputs": [],
   "source": [
    "del features_all, features_CBU, features_CTB1, features_CTB2"
   ]
  },
  {
   "cell_type": "markdown",
   "id": "da25fc6a",
   "metadata": {},
   "source": [
    "## Plot mean psd by group (control vs MCI Stable)"
   ]
  },
  {
   "cell_type": "code",
   "execution_count": null,
   "id": "638163eb",
   "metadata": {},
   "outputs": [],
   "source": [
    "plt.rcParams['font.size'] = 11\n",
    "fig, axes = plt.subplots(1,1, figsize=[3.6,1.4],sharey=True)\n",
    "psd_mean_control = np.mean(psds_mean_chan[np.array(feature_control) == 1],0)\n",
    "\n",
    "psd_mean_nonconverter = np.mean(psds_mean_chan[np.array(feature_converter) == 0],0)\n",
    "plt.plot(foi, psd_mean_control, label='Control', linewidth = 2.3)\n",
    "\n",
    "plt.plot(foi, psd_mean_nonconverter, label='Stable MCI', linewidth = 2.3)\n",
    "\n",
    "# Remove the legend frame\n",
    "legend = plt.legend(loc='upper right', bbox_to_anchor=(0.6, 0.6))\n",
    "frame = legend.get_frame()\n",
    "frame.set_linewidth(0) \n",
    "plt.title('Average power spectra', fontsize=11, y=1)\n",
    "plt.xlabel('Frequencies (Hz)')\n",
    "plt.ylabel('Power (dB)')\n",
    "plt.ylim(-280,-260)\n",
    "plt.xscale('log', base =2)\n",
    "plt.xticks([1,2,4,8,16,32,64],labels = [1,2,4,8,16,32,64])\n",
    "#plt.xticks(plt.xticks()[0][2:-2], labels = [1,2,4,8,16,32,64])\n",
    "sns.despine(offset=10, trim=True);\n",
    "plt.savefig('./figures/suppl_figure8a_controlvsADprogression.pdf', bbox_inches='tight')"
   ]
  },
  {
   "cell_type": "markdown",
   "id": "fbca0991",
   "metadata": {},
   "source": [
    "## Permutation F-test on sensor data averaged over all sensors"
   ]
  },
  {
   "cell_type": "code",
   "execution_count": null,
   "id": "6b00c55d",
   "metadata": {},
   "outputs": [],
   "source": [
    "# comparison for control vs MCI stable\n",
    "data_condition_1 = psds_mean_chan[np.array(feature_control) == 1]\n",
    "data_condition_2 = psds_mean_chan[np.array(feature_converter) == 0]\n",
    "X = [data_condition_1, data_condition_2]"
   ]
  },
  {
   "cell_type": "code",
   "execution_count": null,
   "id": "be0a6e04",
   "metadata": {},
   "outputs": [],
   "source": [
    "data_condition_2.shape"
   ]
  },
  {
   "cell_type": "markdown",
   "id": "0dfc9385",
   "metadata": {},
   "source": [
    "## TFCE F-test method to compare averaged metrics between groups\n"
   ]
  },
  {
   "cell_type": "code",
   "execution_count": null,
   "id": "363873b8",
   "metadata": {},
   "outputs": [],
   "source": [
    "from mne.stats import permutation_cluster_test\n",
    "T_obs, clusters, cluster_p_values, H0 = mne.stats.permutation_cluster_test(\n",
    "    [data_condition_2, data_condition_1],\n",
    "    threshold=dict(start=0, step=0.2), n_jobs=None, \n",
    "    n_permutations=10000,  \n",
    "    tail=0, out_type=\"mask\")"
   ]
  },
  {
   "cell_type": "code",
   "execution_count": null,
   "id": "b4368586",
   "metadata": {},
   "outputs": [],
   "source": [
    "print(cluster_p_values)"
   ]
  },
  {
   "cell_type": "markdown",
   "id": "f625e9b9",
   "metadata": {},
   "source": [
    "### Vizualization"
   ]
  },
  {
   "cell_type": "code",
   "execution_count": null,
   "id": "13c52fd9",
   "metadata": {},
   "outputs": [],
   "source": [
    "import numpy as np\n",
    "import matplotlib.pyplot as plt\n",
    "import seaborn as sns\n",
    "from scipy.stats import bootstrap\n",
    "from scipy.stats import mood, norm\n",
    "rng = np.random.RandomState(23)\n",
    "\n",
    "def my_statistic(sample1, sample2, axis=0):\n",
    "    statistic = np.mean(sample1) - np.mean(sample2)\n",
    "    return statistic\n",
    "\n",
    "condition1=data_condition_1\n",
    "condition2=data_condition_2\n",
    "\n",
    "results = list()\n",
    "\n",
    "for ii in range(condition2.shape[1]):\n",
    "    data = (condition2[:, ii], condition1[:, ii])\n",
    "    res = bootstrap(data, my_statistic, method='basic', random_state=rng, vectorized=False)\n",
    "    results.append(res)    \n",
    "\n",
    "conf_ints = np.array([tuple(res.confidence_interval) for res in results])\n",
    "conf_ints.shape\n",
    "                    "
   ]
  },
  {
   "cell_type": "code",
   "execution_count": null,
   "id": "9786c2cd",
   "metadata": {},
   "outputs": [],
   "source": [
    "import numpy as np\n",
    "import matplotlib.pyplot as plt\n",
    "import seaborn as sns\n",
    "from scipy.stats import bootstrap\n",
    "\n",
    "plt.rcParams['font.size'] = 11\n",
    "\n",
    "# mean PSD difference\n",
    "mean_difference = condition2.mean(axis=0) - condition1.mean(axis=0)\n",
    "\n",
    "# IC95 for the difference\n",
    "upper_bound = conf_ints[:,1]\n",
    "lower_bound = conf_ints[:,0]\n",
    "\n",
    "fig, ax = plt.subplots(1, 1, figsize=[3.6,1.4], sharey=True)\n",
    "ax.set_title('PSD difference between groups', fontsize = 11.5, y=1.05)\n",
    "ax.set_xscale('log', base=2)\n",
    "ax.spines['top'].set_visible(False)\n",
    "ax.spines['right'].set_visible(False)\n",
    "xticks = [1, 2, 4, 8, 16, 32, 64]\n",
    "ax.set_xticks(xticks)\n",
    "ax.set_xticklabels(xticks)\n",
    "#ax.set_ylim(-1, 1.7)\n",
    "ax.set_xlim(1, 64)\n",
    "ax.axhline(0, color='black', linestyle= \"--\")\n",
    "sns.despine(offset=5, trim=False)\n",
    "\n",
    "# Plot the mean difference\n",
    "line = ax.plot(\n",
    "    foi,\n",
    "    mean_difference,\n",
    "    label=\"Mean Difference\"\n",
    ")\n",
    "\n",
    "# Fill the area between upper and lower CI bounds\n",
    "ax.fill_between(foi,upper_bound, lower_bound, alpha=0.5, label=\"95% CI\")\n",
    "\n",
    "ax.set_ylabel(\"PSD difference (dB)\")\n",
    "ax.set_xlabel(\"Frequencies (Hz)\")\n",
    "\n",
    "plt.savefig('./figures/figure8b_ctrvsMCIStable.pdf', bbox_inches='tight')\n"
   ]
  },
  {
   "cell_type": "code",
   "execution_count": null,
   "id": "3a3945e8",
   "metadata": {},
   "outputs": [],
   "source": [
    "mask = cluster_p_values <= 0.05\n",
    "\n",
    "plt.rcParams['font.size'] = 11\n",
    "fig, ax2 = plt.subplots(1, 1, figsize=[3.6, 1.4], sharey=True)\n",
    "ax2.set_title('Permutation F-test on mean PSD', fontsize=11.5, y=1.05)\n",
    "\n",
    "# Plot the main black line\n",
    "hf, = ax2.plot(foi, T_obs, \"black\")\n",
    "\n",
    "# Find contiguous regions of significant frequencies\n",
    "inside_cluster = False\n",
    "fill_plotted = False \n",
    "\n",
    "for i in range(len(foi)):\n",
    "    if mask[i] and not inside_cluster:\n",
    "        start_idx = i\n",
    "        inside_cluster = True\n",
    "    elif not mask[i] and inside_cluster:\n",
    "        end_idx = i\n",
    "        # Fill between for this cluster region\n",
    "        if not fill_plotted:\n",
    "            ax2.fill_between(foi[start_idx:end_idx], y1=T_obs[start_idx:end_idx], y2=0, \n",
    "                             color=\"green\", label='Cluster P < 0.05', alpha=0.3)\n",
    "            fill_plotted = True  # Set flag so that the label is added only once\n",
    "        else:\n",
    "            ax2.fill_between(foi[start_idx:end_idx], y1=T_obs[start_idx:end_idx], y2=0, \n",
    "                             color=\"green\", alpha=0.3)\n",
    "        inside_cluster = False\n",
    "\n",
    "# If a cluster goes till the end of the data\n",
    "if inside_cluster:\n",
    "    if not fill_plotted:\n",
    "        ax2.fill_between(foi[start_idx:], y1=T_obs[start_idx:], y2=0, color=\"green\", alpha=0.3, label='Cluster P < 0.05')\n",
    "    else:\n",
    "        ax2.fill_between(foi[start_idx:], y1=T_obs[start_idx:], y2=0, color=\"green\", alpha=0.3)\n",
    "\n",
    "# Set axes labels and scales\n",
    "ax2.set_xlabel(\"Frequencies (Hz)\")\n",
    "ax2.set_ylabel(\"F-values\")\n",
    "ax2.set_xscale('log', base=2)\n",
    "xticks = [1, 2, 4, 8, 16, 32, 64]\n",
    "ax2.set_xticks(xticks)\n",
    "ax2.set_xlim(1, 64)\n",
    "ax2.set_ylim(0, 10)\n",
    "ax2.set_xticklabels(xticks)\n",
    "\n",
    "ax2.spines['top'].set_visible(False)\n",
    "ax2.spines['right'].set_visible(False)\n",
    "sns.despine(offset=5, trim=False)\n",
    "\n",
    "ax2.legend(loc='upper right', bbox_to_anchor=(0.6, 0.6), ncol=2, fontsize=10, frameon=False)\n",
    "\n",
    "plt.savefig('./figures/suppl_figure8c_ctrsvMCIStable.pdf', bbox_inches='tight')\n"
   ]
  },
  {
   "cell_type": "code",
   "execution_count": null,
   "id": "c6537214",
   "metadata": {},
   "outputs": [],
   "source": [
    "# print significant frequencies for clusters\n",
    "print(foi[mask])"
   ]
  }
 ],
 "metadata": {
  "kernelspec": {
   "display_name": "Python 3",
   "language": "python",
   "name": "python3"
  },
  "language_info": {
   "codemirror_mode": {
    "name": "ipython",
    "version": 3
   },
   "file_extension": ".py",
   "mimetype": "text/x-python",
   "name": "python",
   "nbconvert_exporter": "python",
   "pygments_lexer": "ipython3",
   "version": "3.10.10"
  }
 },
 "nbformat": 4,
 "nbformat_minor": 5
}
