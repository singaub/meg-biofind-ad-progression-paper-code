{
 "cells": [
  {
   "cell_type": "markdown",
   "id": "85bdba58",
   "metadata": {},
   "source": [
    "## code for supplementary figure 3"
   ]
  },
  {
   "cell_type": "code",
   "execution_count": null,
   "id": "2048138b",
   "metadata": {},
   "outputs": [],
   "source": [
    "import matplotlib.pyplot as plt\n",
    "import polars as pl\n",
    "from sklearn.metrics import roc_curve\n",
    "import seaborn as sns\n",
    "import numpy as np"
   ]
  },
  {
   "cell_type": "code",
   "execution_count": null,
   "id": "3df4cc93",
   "metadata": {},
   "outputs": [],
   "source": [
    "df_mod4 = pl.read_csv('./mod4_age_edu_mmse_MEGaverage.csv')"
   ]
  },
  {
   "cell_type": "code",
   "execution_count": null,
   "id": "b9c65293",
   "metadata": {},
   "outputs": [],
   "source": [
    "df_mod4"
   ]
  },
  {
   "cell_type": "code",
   "execution_count": null,
   "id": "58b135f8",
   "metadata": {},
   "outputs": [],
   "source": [
    "df_mod4['lower'].abs(), (df_mod4['AME'] - df_mod4['SE'] * 1.96).abs()"
   ]
  },
  {
   "cell_type": "code",
   "execution_count": null,
   "id": "687aded2",
   "metadata": {},
   "outputs": [],
   "source": [
    "df_mod4['upper'].abs(), (df_mod4['AME'] + df_mod4['SE'] * 1.96).abs()"
   ]
  },
  {
   "cell_type": "code",
   "execution_count": null,
   "id": "ae7bddf4",
   "metadata": {},
   "outputs": [],
   "source": [
    "df_mod4 = df_mod4.sort(pl.col('AME').abs(), descending=False)"
   ]
  },
  {
   "cell_type": "code",
   "execution_count": null,
   "id": "d1fb68e9",
   "metadata": {},
   "outputs": [],
   "source": [
    "factors=df_mod4['factor'].to_list()"
   ]
  },
  {
   "cell_type": "code",
   "execution_count": null,
   "id": "8c45ff4c",
   "metadata": {},
   "outputs": [],
   "source": [
    "roc1 = pl.read_csv('./Biofind_code_R1/roc_data_mod1.csv')\n",
    "roc2 = pl.read_csv('./Biofind_code_R1/roc_data_mod2.csv')\n",
    "roc3 = pl.read_csv('./Biofind_code_R1/roc_data_mod3_MEG_average.csv')\n",
    "roc4 = pl.read_csv('./Biofind_code_R1/roc_data_mod4_MEG_average.csv')\n",
    "rocs =[roc1, roc2, roc3, roc4]\n",
    "aucs = [0.71, 0.75, 0.77, 0.79]"
   ]
  },
  {
   "cell_type": "code",
   "execution_count": null,
   "id": "5a6634bb",
   "metadata": {},
   "outputs": [],
   "source": [
    "mapping = {\n",
    "    'age': 'Age',\n",
    "    'Edu_years': 'Education',\n",
    "     'MMSE': 'MMSE',\n",
    "     'ratio_Hippocampus_TotalGrayVol': 'Hippocampal ratio',\n",
    "     'meg_average_adj': 'MEG average'\n",
    "}"
   ]
  },
  {
   "cell_type": "code",
   "execution_count": null,
   "id": "f87b6f86",
   "metadata": {},
   "outputs": [],
   "source": [
    "colors = plt.cm.viridis(np.linspace(0.1, 0.9, 5))\n",
    "colors2 = plt.cm.plasma(np.linspace(0.1, 0.95, 5))\n",
    "\n",
    "sns.set_context('paper', font_scale=1.5)\n",
    "\n",
    "fig, axes = plt.subplot_mosaic(\n",
    "    [['roc', 'roc', 'roc', 'blank', 'coef', 'coef', 'coef']]\n",
    ")\n",
    "fig.set_size_inches(\n",
    "    8, 3.5\n",
    ")\n",
    "\n",
    "axes['blank'].set_axis_off()\n",
    "\n",
    "### panel A\n",
    "\n",
    "ax = axes['roc']\n",
    "for jj, roc in enumerate(rocs):\n",
    "    ax.plot(\n",
    "        1 - roc['specificity'],\n",
    "        roc['sensitivity'],\n",
    "        color=colors2[jj],\n",
    "        linewidth=2.5,\n",
    "        label=f'Model {jj+1} (AUC={aucs[jj]:0.2f})'\n",
    "    )\n",
    "\n",
    "ax.set_xticks(np.arange(0, 1.1, 0.2))\n",
    "ax.set_yticks(np.arange(0, 1.1, 0.2))\n",
    "ax.set_xlabel('1 - specificity', loc='center')\n",
    "ax.set_ylabel('sensitivity', loc='center')\n",
    "ax.text(-0.3, 1, 'b', fontsize='large', transform=ax.transAxes, weight='bold')\n",
    "\n",
    "handles, labels = ax.get_legend_handles_labels()\n",
    "ax.legend(handles[::-1], labels[::-1], frameon=False, fontsize=10)\n",
    "sns.despine(trim=True, ax=ax)\n",
    "\n",
    "### panel B\n",
    "\n",
    "ax = axes['coef']\n",
    "for ii, (factor, ame, se, *_) in enumerate(df_mod4.rows()):\n",
    "    ax.errorbar(\n",
    "        x=ame, y=ii, xerr=se * 1.96, fmt='o', capsize=5, capthick=2.5,\n",
    "        ms=10, linewidth=3, color=colors[ii], mfc='white', mew=3\n",
    "    )\n",
    "ax.axvline(0, linestyle='--', color='gray')\n",
    "\n",
    "\n",
    "mapped_factors = [mapping.get(f, f) for f in factors]\n",
    "ax.set_yticks(range(len(factors)), mapped_factors)\n",
    "ax.set_xticks(np.arange(-0.15, 0.10, 0.05))\n",
    "ax.set_xlabel(r'$\\Delta$ Predicted probability of progressing to AD', loc='right')\n",
    "ax.text(-0.75, 1, 'a', fontsize='large', transform=ax.transAxes, weight='bold')\n",
    "\n",
    "sns.despine(trim=True, ax=ax)\n",
    "\n",
    "fig.savefig('suppl_fig3_R3.pdf', dpi=300, bbox_inches='tight')\n",
    "fig.savefig('suppl_fig3_R3.png', dpi=300,  bbox_inches='tight')"
   ]
  }
 ],
 "metadata": {
  "kernelspec": {
   "display_name": "Python 3",
   "language": "python",
   "name": "python3"
  },
  "language_info": {
   "codemirror_mode": {
    "name": "ipython",
    "version": 3
   },
   "file_extension": ".py",
   "mimetype": "text/x-python",
   "name": "python",
   "nbconvert_exporter": "python",
   "pygments_lexer": "ipython3",
   "version": "3.10.10"
  }
 },
 "nbformat": 4,
 "nbformat_minor": 5
}
