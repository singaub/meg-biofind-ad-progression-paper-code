{
 "cells": [
  {
   "cell_type": "markdown",
   "id": "c9688b23",
   "metadata": {},
   "source": [
    "## Code to plot Supplementary Figure 2, panel c"
   ]
  },
  {
   "cell_type": "code",
   "execution_count": 1,
   "id": "6e0d6287",
   "metadata": {},
   "outputs": [],
   "source": [
    "import matplotlib.pyplot as plt\n",
    "import polars as pl\n",
    "from sklearn.metrics import roc_curve\n",
    "import seaborn as sns\n",
    "import numpy as np"
   ]
  },
  {
   "cell_type": "code",
   "execution_count": null,
   "id": "3df4cc93",
   "metadata": {},
   "outputs": [],
   "source": [
    "df_mod3 = pl.read_csv('./mod3_age_edu_mmse_MEG.csv')"
   ]
  },
  {
   "cell_type": "code",
   "execution_count": 4,
   "id": "b9c65293",
   "metadata": {},
   "outputs": [
    {
     "data": {
      "text/html": [
       "<div><style>\n",
       ".dataframe > thead > tr,\n",
       ".dataframe > tbody > tr {\n",
       "  text-align: right;\n",
       "  white-space: pre-wrap;\n",
       "}\n",
       "</style>\n",
       "<small>shape: (4, 7)</small><table border=\"1\" class=\"dataframe\"><thead><tr><th>factor</th><th>AME</th><th>SE</th><th>z</th><th>p</th><th>lower</th><th>upper</th></tr><tr><td>str</td><td>f64</td><td>f64</td><td>f64</td><td>f64</td><td>f64</td><td>f64</td></tr></thead><tbody><tr><td>&quot;age&quot;</td><td>0.009734</td><td>0.007184</td><td>1.354891</td><td>0.175452</td><td>-0.004347</td><td>0.023814</td></tr><tr><td>&quot;Edu_years&quot;</td><td>0.019888</td><td>0.009069</td><td>2.193013</td><td>0.028306</td><td>0.002113</td><td>0.037663</td></tr><tr><td>&quot;meg_average_cluster_adj&quot;</td><td>-0.121883</td><td>0.021611</td><td>-5.639934</td><td>1.7012e-8</td><td>-0.164239</td><td>-0.079527</td></tr><tr><td>&quot;MMSE&quot;</td><td>-0.055038</td><td>0.014269</td><td>-3.857171</td><td>0.000115</td><td>-0.083004</td><td>-0.027071</td></tr></tbody></table></div>"
      ],
      "text/plain": [
       "shape: (4, 7)\n",
       "┌─────────────────────────┬───────────┬──────────┬───────────┬───────────┬───────────┬───────────┐\n",
       "│ factor                  ┆ AME       ┆ SE       ┆ z         ┆ p         ┆ lower     ┆ upper     │\n",
       "│ ---                     ┆ ---       ┆ ---      ┆ ---       ┆ ---       ┆ ---       ┆ ---       │\n",
       "│ str                     ┆ f64       ┆ f64      ┆ f64       ┆ f64       ┆ f64       ┆ f64       │\n",
       "╞═════════════════════════╪═══════════╪══════════╪═══════════╪═══════════╪═══════════╪═══════════╡\n",
       "│ age                     ┆ 0.009734  ┆ 0.007184 ┆ 1.354891  ┆ 0.175452  ┆ -0.004347 ┆ 0.023814  │\n",
       "│ Edu_years               ┆ 0.019888  ┆ 0.009069 ┆ 2.193013  ┆ 0.028306  ┆ 0.002113  ┆ 0.037663  │\n",
       "│ meg_average_cluster_adj ┆ -0.121883 ┆ 0.021611 ┆ -5.639934 ┆ 1.7012e-8 ┆ -0.164239 ┆ -0.079527 │\n",
       "│ MMSE                    ┆ -0.055038 ┆ 0.014269 ┆ -3.857171 ┆ 0.000115  ┆ -0.083004 ┆ -0.027071 │\n",
       "└─────────────────────────┴───────────┴──────────┴───────────┴───────────┴───────────┴───────────┘"
      ]
     },
     "execution_count": 4,
     "metadata": {},
     "output_type": "execute_result"
    }
   ],
   "source": [
    "df_mod3"
   ]
  },
  {
   "cell_type": "code",
   "execution_count": 5,
   "id": "ae7bddf4",
   "metadata": {},
   "outputs": [],
   "source": [
    "df_mod3 = df_mod3.sort(pl.col('AME').abs(), descending=False)"
   ]
  },
  {
   "cell_type": "code",
   "execution_count": 6,
   "id": "d1fb68e9",
   "metadata": {},
   "outputs": [],
   "source": [
    "factors=df_mod3['factor'].to_list()"
   ]
  },
  {
   "cell_type": "code",
   "execution_count": null,
   "id": "8c45ff4c",
   "metadata": {},
   "outputs": [],
   "source": [
    "roc3 = pl.read_csv('./roc_data_mod3_MEG.csv')"
   ]
  },
  {
   "cell_type": "code",
   "execution_count": 9,
   "id": "5a6634bb",
   "metadata": {},
   "outputs": [],
   "source": [
    "mapping = {\n",
    "    'age': 'Age',\n",
    "    'Edu_years': 'Education',\n",
    "     'MMSE': 'MMSE',\n",
    "     'ratio_Hippocampus_TotalGrayVol': 'Hippocampal ratio',\n",
    "     'meg_average_cluster_adj': 'MEG'\n",
    "}"
   ]
  },
  {
   "cell_type": "code",
   "execution_count": null,
   "id": "f87b6f86",
   "metadata": {},
   "outputs": [
    {
     "data": {
      "image/png": "[encoded data removed]",
      "text/plain": [
       "<Figure size 400x350 with 1 Axes>"
      ]
     },
     "metadata": {},
     "output_type": "display_data"
    }
   ],
   "source": [
    "# Adjust color range to match the number of factors (6 factors, 6 colors)\n",
    "num_factors = len(df_mod3)  # Assuming df_mod5 has 6 rows, adjust as per the actual number of rows\n",
    "colors = plt.cm.viridis(np.linspace(0.1, 0.9, num_factors))\n",
    "\n",
    "sns.set_context('paper', font_scale=1.5)\n",
    "\n",
    "### Panel A\n",
    "\n",
    "# Create the subplot layout with mosaic (Remove Panel B - ROC Curves)\n",
    "fig, ax = plt.subplots(1, 1, figsize=(4, 3.5))  # Adjusted size for a single panel\n",
    "\n",
    "# Plot each factor with its respective color\n",
    "for ii, (factor, ame, se, *_) in enumerate(df_mod3.rows()):\n",
    "    ax.errorbar(\n",
    "        x=ame, y=ii, xerr=se * 1.96, fmt='o', capsize=5, capthick=2.5,\n",
    "        ms=10, linewidth=3, color=colors[ii], mfc='white', mew=3\n",
    "    )\n",
    "\n",
    "ax.axvline(0, linestyle='--', color='gray')\n",
    "\n",
    "# Assuming factors is a list of all factor names in the correct order\n",
    "factors = ['Age', 'Education', 'MMSE', 'MEG']\n",
    "\n",
    "# Map factors using a mapping if necessary\n",
    "mapped_factors = [mapping.get(f, f) for f in factors]\n",
    "\n",
    "# Set the y-ticks with the custom order\n",
    "ax.set_yticks(range(len(factors)), mapped_factors)\n",
    "\n",
    "# Set x-ticks and labels with better scaling\n",
    "ax.set_xlim(-0.2, 0.15)  # Extend the x-axis range to make space for data points\n",
    "ax.set_xlabel(r'$\\Delta$ Predicted probability of AD progression', loc='right')\n",
    "\n",
    "# Remove the spines for cleaner look\n",
    "sns.despine(trim=True, ax=ax)\n",
    "\n",
    "# Save the figure\n",
    "fig.savefig('suppl_fig2c.pdf', bbox_inches='tight')\n",
    "fig.savefig('suppl_fig2c.png', dpi=300, bbox_inches='tight')"
   ]
  }
 ],
 "metadata": {
  "kernelspec": {
   "display_name": "Python 3",
   "language": "python",
   "name": "python3"
  },
  "language_info": {
   "codemirror_mode": {
    "name": "ipython",
    "version": 3
   },
   "file_extension": ".py",
   "mimetype": "text/x-python",
   "name": "python",
   "nbconvert_exporter": "python",
   "pygments_lexer": "ipython3",
   "version": "3.10.10"
  }
 },
 "nbformat": 4,
 "nbformat_minor": 5
}
