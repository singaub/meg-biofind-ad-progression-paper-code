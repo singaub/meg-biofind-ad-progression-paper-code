{
 "cells": [
  {
   "cell_type": "code",
   "execution_count": null,
   "id": "788a19e5",
   "metadata": {},
   "outputs": [],
   "source": [
    "import numpy as np\n",
    "import matplotlib.pyplot as plt\n",
    "import h5io\n",
    "import pandas as pd\n",
    "from meeglet import define_frequencies\n",
    "\n",
    "from scipy import io\n",
    "import scipy.misc \n",
    "import statsmodels.api as sm\n",
    "\n",
    "import seaborn as sns\n",
    "import pyriemann\n",
    "from pyriemann.stats import PermutationDistance\n",
    "from coffeine.spatial_filters import ProjCommonSpace\n",
    "import seaborn as sns\n",
    "from scipy import stats"
   ]
  },
  {
   "cell_type": "code",
   "execution_count": null,
   "id": "53d2fc99",
   "metadata": {},
   "outputs": [],
   "source": [
    "print(scipy.__version__)\n"
   ]
  },
  {
   "cell_type": "code",
   "execution_count": null,
   "id": "74d47c35",
   "metadata": {},
   "outputs": [],
   "source": [
    "foi = define_frequencies(foi_start=1, foi_end=64, bw_oct=0.35, delta_oct=0.05)[0]"
   ]
  },
  {
   "cell_type": "markdown",
   "id": "ec79e29b",
   "metadata": {},
   "source": [
    "### GROUP LEVEL STATISTICS"
   ]
  },
  {
   "cell_type": "markdown",
   "id": "893f00ec",
   "metadata": {},
   "source": [
    "### all features"
   ]
  },
  {
   "cell_type": "code",
   "execution_count": null,
   "id": "31eda561",
   "metadata": {},
   "outputs": [],
   "source": [
    "features_CBU = h5io.read_hdf5('./meeglet_CBU_2023-06-22_10-06.h5')\n",
    "features_CTB1 = h5io.read_hdf5('./meeglet_CTB_2023-06-22_10-46.h5')\n",
    "features_CTB2 = h5io.read_hdf5('./meeglet_CTB_2023-06-23_11-04.h5')"
   ]
  },
  {
   "cell_type": "code",
   "execution_count": null,
   "id": "c425b2ee",
   "metadata": {},
   "outputs": [],
   "source": [
    "# merge 3 hdf5 files (key: patient, value : tuple cov, pow)\n",
    "features_all = features_CTB1 | features_CTB2 | features_CBU"
   ]
  },
  {
   "cell_type": "markdown",
   "id": "a885eb59",
   "metadata": {},
   "source": [
    "# Build subjects group and import features"
   ]
  },
  {
   "cell_type": "code",
   "execution_count": null,
   "id": "fc1e0f2f",
   "metadata": {},
   "outputs": [],
   "source": [
    "participants_fname = './participants.tsv'\n",
    "subject_df = pd.read_csv(participants_fname, delimiter='\\t')\n",
    "subject_df['participant_id'] = subject_df['participant_id'].str.replace('sub-', '')\n",
    "subject_df = subject_df.set_index('participant_id')"
   ]
  },
  {
   "cell_type": "code",
   "execution_count": null,
   "id": "de960eea",
   "metadata": {},
   "outputs": [],
   "source": [
    "subject_df = subject_df.loc[features_all.keys()] # dataframe in correct order (without the patient with no eeg)"
   ]
  },
  {
   "cell_type": "code",
   "execution_count": null,
   "id": "9b057c1e",
   "metadata": {},
   "outputs": [],
   "source": [
    "feature_converter = subject_df['Converters'].fillna(-1)"
   ]
  },
  {
   "cell_type": "code",
   "execution_count": null,
   "id": "1be5e17e",
   "metadata": {},
   "outputs": [],
   "source": [
    "# import rplain\n",
    "r_plain = np.array([features_all[subject][6] for subject in features_all]) # 0 cov, 1 pow, 2 csd\n",
    "r_plain.shape"
   ]
  },
  {
   "cell_type": "code",
   "execution_count": null,
   "id": "8656b723",
   "metadata": {},
   "outputs": [],
   "source": [
    "del features_all, features_CBU, features_CTB1, features_CTB2"
   ]
  },
  {
   "cell_type": "markdown",
   "id": "8f8ff1d8",
   "metadata": {},
   "source": [
    "## regularize r_plain"
   ]
  },
  {
   "cell_type": "code",
   "execution_count": null,
   "id": "f7f0f8d2",
   "metadata": {},
   "outputs": [],
   "source": [
    "n_compo = 65\n",
    "r_plain_reg = np.empty_like(r_plain[:,:n_compo,:n_compo]) # init output array\n",
    "for i in range(r_plain.shape[3]): #loops on frequencies\n",
    "    regularizer = ProjCommonSpace(n_compo = n_compo, reg=1e-15, scale=1)\n",
    "    r_plain_sym = pyriemann.utils.base.nearest_sym_pos_def(r_plain[:,:,:,i])\n",
    "    r_plain_reg[:, :, :, i] = np.array(\n",
    "        list(regularizer.fit_transform(r_plain_sym)['cov'])\n",
    "    ) # method fit applied on the covs for subject i"
   ]
  },
  {
   "cell_type": "markdown",
   "id": "7fb6d13d",
   "metadata": {},
   "source": [
    "## pyriemann MANOVA on r_plain"
   ]
  },
  {
   "cell_type": "markdown",
   "id": "647bb1d5",
   "metadata": {},
   "source": [
    "# converters"
   ]
  },
  {
   "cell_type": "code",
   "execution_count": null,
   "id": "2ae3a344",
   "metadata": {},
   "outputs": [],
   "source": [
    "from pyriemann.stats import PermutationDistance\n",
    "\n",
    "labels = np.array(feature_converter)\n",
    "\n",
    "pv = []\n",
    "Fv = []\n",
    "for i in range(r_plain_reg.shape[3]):\n",
    "    p_test = PermutationDistance(1000, metric='riemann', mode='pairwise') \n",
    "    p, F = p_test.test(r_plain_reg[:,:,:,i], labels, verbose = False)\n",
    "    pv.append(p)\n",
    "    Fv.append(F[0])"
   ]
  },
  {
   "cell_type": "code",
   "execution_count": null,
   "id": "f2dc5c08",
   "metadata": {},
   "outputs": [],
   "source": [
    "# Convert lists to numpy arrays for easier saving\n",
    "pv = np.array(pv)\n",
    "Fv = np.array(Fv)\n",
    "\n",
    "# Save p-values and F-scores as .npy files\n",
    "np.save('./p_values_rplain.npy', pv)\n",
    "np.save('./F_scores_rplain.npy', Fv)"
   ]
  },
  {
   "cell_type": "code",
   "execution_count": null,
   "id": "e2975933",
   "metadata": {},
   "outputs": [],
   "source": [
    "# Load the previously saved results\n",
    "pv = np.load('./p_values_rplain.npy')\n",
    "Fv = np.load('./F_scores_rplain.npy')"
   ]
  },
  {
   "cell_type": "markdown",
   "id": "02373df8",
   "metadata": {},
   "source": [
    "## Script to plot Figures with FDR pvalues"
   ]
  },
  {
   "cell_type": "code",
   "execution_count": null,
   "id": "8cb8489d",
   "metadata": {},
   "outputs": [],
   "source": [
    "import seaborn as sns\n",
    "plt.rcParams['font.size'] = 11\n",
    "fig, axes = plt.subplots(1, 1, figsize=[3.8,2.1], sharey=True)\n",
    "sig = 0.05\n",
    "axes.plot(foi, Fv, lw=1.3, c='k')\n",
    "plt.xlabel('Frequencies (Hz)')\n",
    "plt.ylabel('MANOVA F Score')\n",
    "\n",
    "# Fill the area between MANOVA F scores and threshold line with green\n",
    "sig_index = np.array(pv) < sig\n",
    "axes.fill_between(foi, Fv, 1, where=sig_index, interpolate=True, color='g', alpha=0.3)\n",
    "\n",
    "# Customize legend\n",
    "sig = pv[pv < 0.05].max()\n",
    "legend = axes.legend(['F Score', 'p < %.2f' % sig])\n",
    "axes.set_title('Power envelope MANOVA', fontsize = 11, y=0.95)\n",
    "legend.set_frame_on(False)\n",
    "\n",
    "# Set x-axis to display full numbers\n",
    "axes.set_xscale('log', base=2)\n",
    "xticks = [1, 2, 4, 8, 16, 32, 64]\n",
    "yticks = [1, 2, 3]\n",
    "axes.set_xticks(xticks)\n",
    "axes.set_xticklabels(xticks)\n",
    "axes.set_yticks(yticks)\n",
    "axes.set_yticklabels(yticks)\n",
    "#axes.set_ylim(1,7)\n",
    "axes.set_xlim(2,64)\n",
    "sns.despine(offset=4, trim=False);\n",
    "\n",
    "axes2 = axes.twinx()\n",
    "axes2.plot(foi, -np.log10(stats.false_discovery_control(pv)), color='orange')\n",
    "axes2.set_ylabel('p value' + ' (FDR)', color='orange')\n",
    "axes2.set_ylim(1, 4)\n",
    "axes2.axhline(-np.log10(0.05), color='red', linestyle='--')\n",
    "axes2.annotate(xy=(0.7, 0.14), text='p = 0.05', color='r', xycoords='axes fraction')\n",
    "axes2.set_yticks(-np.log10([0.1, 0.01, 0.001, 0.0001]))\n",
    "axes2.set_yticklabels([0.1, 0.01, 0.001, 0.0001], color='orange')\n",
    "# Remove top and right edges\n",
    "sns.despine(right=True, top=True, ax=axes)\n",
    "sns.despine(right=False, left=True, top=True, bottom=True, ax=axes2)\n",
    "plt.savefig('./figures/figure_rplain_manova_65compo_FDR_Denis.png', dpi=300, bbox_inches='tight')"
   ]
  }
 ],
 "metadata": {
  "kernelspec": {
   "display_name": "Python 3",
   "language": "python",
   "name": "python3"
  },
  "language_info": {
   "codemirror_mode": {
    "name": "ipython",
    "version": 3
   },
   "file_extension": ".py",
   "mimetype": "text/x-python",
   "name": "python",
   "nbconvert_exporter": "python",
   "pygments_lexer": "ipython3",
   "version": "3.10.10"
  }
 },
 "nbformat": 4,
 "nbformat_minor": 5
}
