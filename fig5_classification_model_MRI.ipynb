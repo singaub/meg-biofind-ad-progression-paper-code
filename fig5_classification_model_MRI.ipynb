{
 "cells": [
  {
   "cell_type": "code",
   "execution_count": null,
   "id": "92d7cc2e",
   "metadata": {},
   "outputs": [],
   "source": [
    "import numpy as np\n",
    "import pandas as pd\n",
    "from joblib import Parallel, delayed\n",
    "from sklearn.pipeline import make_pipeline\n",
    "from sklearn.impute import IterativeImputer\n",
    "from sklearn.linear_model import RidgeClassifierCV\n",
    "from sklearn.model_selection import StratifiedKFold\n",
    "from sklearn.preprocessing import StandardScaler"
   ]
  },
  {
   "cell_type": "code",
   "execution_count": null,
   "id": "4921ef25-e55f-459e-8f09-435515584f36",
   "metadata": {},
   "outputs": [],
   "source": [
    "features_all_keys = pd.read_csv('./input/features_all_keys.csv')\n",
    "features_all_keys = [k for k in features_all_keys['subject']]\n",
    "print(len(features_all_keys))"
   ]
  },
  {
   "cell_type": "code",
   "execution_count": null,
   "id": "1f58a795",
   "metadata": {},
   "outputs": [],
   "source": [
    "participants_fname = './input/participants.tsv'\n",
    "subject_df = pd.read_csv(participants_fname, delimiter='\\t')\n",
    "subject_df['participant_id'] = subject_df['participant_id'].str.replace('sub-', '')\n",
    "subject_df = subject_df.set_index('participant_id')\n",
    "# dataframe in correct order\n",
    "subject_df = subject_df.loc[features_all_keys]\n",
    "subject_converter_df = subject_df.dropna(subset=['Converters']) # create new df use JUST for STATS \n",
    "feature_converter = subject_df['Converters'].fillna(-1)"
   ]
  },
  {
   "cell_type": "code",
   "execution_count": null,
   "id": "6021160a",
   "metadata": {},
   "outputs": [],
   "source": [
    "y = feature_converter[feature_converter!=-1]"
   ]
  },
  {
   "cell_type": "code",
   "execution_count": null,
   "id": "820ef277",
   "metadata": {},
   "outputs": [],
   "source": [
    "print(len(y))"
   ]
  },
  {
   "cell_type": "markdown",
   "id": "ea51d5a7-4b1f-4314-b108-51c032124523",
   "metadata": {
    "jp-MarkdownHeadingCollapsed": true
   },
   "source": [
    "## MRI Data"
   ]
  },
  {
   "cell_type": "code",
   "execution_count": null,
   "id": "2075d756-afbc-4a60-9331-e8a257cf8d75",
   "metadata": {},
   "outputs": [],
   "source": [
    "mri_df = pd.read_csv('./input/IRM_raw_data.csv').drop(['Unnamed: 0'], axis=1)\n",
    "mri_df = mri_df[\n",
    "    [\n",
    "        'participant_id', 'Left-Lateral-Ventricle', 'Left-Inf-Lat-Vent',\n",
    "        'Left-Cerebellum-White-Matter', 'Left-Cerebellum-Cortex',\n",
    "        'Left-Thalamus', 'Left-Caudate', 'Left-Putamen', 'Left-Pallidum',\n",
    "        '3rd-Ventricle', '4th-Ventricle', 'Brain-Stem', 'LeftHippocampus',\n",
    "        'LeftAmygdala', 'CSF', 'Left-Accumbens-area', 'Left-VentralDC',\n",
    "        'Left-vessel', 'Left-choroid-plexus', 'Right-Lateral-Ventricle',\n",
    "        'Right-Inf-Lat-Vent', 'Right-Cerebellum-White-Matter',\n",
    "        'Right-Cerebellum-Cortex', 'Right-Thalamus', 'Right-Caudate',\n",
    "        'Right-Putamen', 'Right-Pallidum', 'RightHippocampus', 'RightAmygdala',\n",
    "        'Right-Accumbens-area', 'Right-VentralDC', 'Right-vessel',\n",
    "        'Right-choroid-plexus', '5th-Ventricle', 'WMHyperintensities',\n",
    "        'Left-WM-hypointensities', 'Right-WM-hypointensities',\n",
    "        'non-WM-hypointensities', 'Left-non-WM-hypointensities',\n",
    "        'Right-non-WM-hypointensities', 'Optic-Chiasm', 'CC_Posterior',\n",
    "        'CC_Mid_Posterior', 'CC_Central', 'CC_Mid_Anterior', 'CC_Anterior',\n",
    "        'BrainSegVol', 'BrainSegVolNotVent', 'lhCortexVol', 'rhCortexVol',\n",
    "        'CortexVol', 'lhCerebralWhiteMatterVol', 'rhCerebralWhiteMatterVol',\n",
    "        'CerebralWhiteMatterVol', 'SubCortGrayVol', 'TotalGrayVol',\n",
    "        'SupraTentorialVol', 'SupraTentorialVolNotVent', 'MaskVol',\n",
    "        'BrainSegVol-to-eTIV', 'MaskVol-to-eTIV', 'lhSurfaceHoles',\n",
    "        'rhSurfaceHoles', 'SurfaceHoles', 'EstimatedTotalIntraCranialVol',\n",
    "        'ventricles', 'Hippocampus', 'Amygdala', 'TotalBrain'\n",
    "        ]\n",
    "]\n",
    "\n",
    "\n",
    "missing_subjects = ['Sub0070', 'Sub0078', 'Sub0282', 'Sub0285', 'Sub0289', 'Sub0306',\n",
    "                    'Sub0308', 'Sub0318', 'Sub0319', 'Sub0321', 'Sub0004', 'Sub0324',\n",
    "                    'Sub0127', 'Sub0136', 'Sub0144', 'Sub0153', 'Sub0167', 'Sub0195', 'Sub0235']\n",
    "missing_rows = [{'participant_id': sub} for sub in missing_subjects]\n",
    "mri_df = pd.concat([mri_df, pd.DataFrame(missing_rows)])\n",
    "\n",
    "# dataframe in correct order\n",
    "mri_df = mri_df.set_index('participant_id')\n",
    "mri_df = mri_df.loc[features_all_keys]"
   ]
  },
  {
   "cell_type": "code",
   "execution_count": null,
   "id": "0ee75e50",
   "metadata": {},
   "outputs": [],
   "source": [
    "print(len(mri_df))"
   ]
  },
  {
   "cell_type": "code",
   "execution_count": null,
   "id": "6f72ccb6-26e0-4f76-bef5-9c007622fed9",
   "metadata": {},
   "outputs": [],
   "source": [
    "X_df= mri_df[feature_converter!=-1]\n",
    "X_df.shape"
   ]
  },
  {
   "cell_type": "code",
   "execution_count": null,
   "id": "e441f0c4",
   "metadata": {},
   "outputs": [],
   "source": [
    "np.all(y.index == X_df.index)"
   ]
  },
  {
   "cell_type": "code",
   "execution_count": null,
   "id": "0efb85a5",
   "metadata": {},
   "outputs": [],
   "source": [
    "X_df.isna().sum()"
   ]
  },
  {
   "cell_type": "code",
   "execution_count": null,
   "id": "93552393-55b8-4f36-84dc-27d50e44d5d8",
   "metadata": {},
   "outputs": [],
   "source": [
    "def string_to_array(s):\n",
    "    return np.fromstring(s.strip('[]'), sep=' ', dtype=int)"
   ]
  },
  {
   "cell_type": "code",
   "execution_count": null,
   "id": "64ff3ef4",
   "metadata": {},
   "outputs": [],
   "source": [
    "X_df = X_df.reset_index().drop('participant_id', axis = 1)\n",
    "X_df = X_df.values"
   ]
  },
  {
   "cell_type": "code",
   "execution_count": null,
   "id": "516d5170",
   "metadata": {},
   "outputs": [],
   "source": [
    "X_df"
   ]
  },
  {
   "cell_type": "code",
   "execution_count": null,
   "id": "31a01e3c",
   "metadata": {},
   "outputs": [],
   "source": [
    "def first_level_pred(cv_row, estimator, X, y, method='predict'):\n",
    "    train, test = cv_row['train'], cv_row['test']\n",
    "    # kick out cases with missing values for fitting\n",
    "    mask_train = np.isnan(X[train, 0])\n",
    "    train_ = train[~mask_train]\n",
    "    estimator.fit(X[train_], y[train_])\n",
    "    # do the same for testing\n",
    "    mask_test = np.isnan(X[test, 0])\n",
    "    test_ = test[~mask_test]\n",
    "    preds_ = getattr(estimator, method)(X[test_])\n",
    "    # fill nans where you had no data\n",
    "    preds = np.zeros(len(test))\n",
    "    preds[:] = np.nan\n",
    "    preds[~mask_test] = preds_\n",
    "    df_out = pd.DataFrame(dict(preds=preds))\n",
    "    df_out['fold_idx'] = cv_row['fold_idx']\n",
    "    df_out['repeat'] = cv_row['rep']\n",
    "    df_out['sample_index'] = test\n",
    "    return df_out"
   ]
  },
  {
   "cell_type": "code",
   "execution_count": null,
   "id": "543af234-798b-40c6-b107-af937e109fab",
   "metadata": {},
   "outputs": [],
   "source": [
    "n_splits = 10 # the number of CV splits\n",
    "n_repeat = 10 # the number of randomized repetitions to get a nicer distribution\n",
    "# Consider putting n_repeats to 1 for the beginning.\n",
    "df_cv = pd.concat([\n",
    "    pd.DataFrame(\n",
    "        list(StratifiedKFold(n_splits=n_splits, random_state=ii * 7, shuffle=True).split(X_df, y)),\n",
    "        columns=['train', 'test']).assign(rep=ii, fold_idx=range(n_splits)) for ii in range(n_repeat)]\n",
    ")    \n",
    "\n",
    "if True: # write/read test\n",
    "    df_cv.to_csv('df_cv.csv', index=False)\n",
    "    df_cv = pd.read_csv(\n",
    "        'df_cv.csv', dtype=[('train', np.ndarray), \n",
    "                            ('test', np.ndarray),\n",
    "                            ('rep', int),\n",
    "                            ('fold_idx', int)]\n",
    "    )\n",
    "    df_cv['train'] = df_cv['train'].apply(string_to_array)\n",
    "    df_cv['test'] = df_cv['test'].apply(string_to_array)\n",
    "    "
   ]
  },
  {
   "cell_type": "code",
   "execution_count": null,
   "id": "5bad5bd3-f03c-4266-9f7f-a876f20aa876",
   "metadata": {},
   "outputs": [],
   "source": [
    "mod_mri = make_pipeline(\n",
    "    IterativeImputer(),\n",
    "    StandardScaler(),\n",
    "    RidgeClassifierCV(alphas=np.logspace(-3, 5, 50)),\n",
    ")"
   ]
  },
  {
   "cell_type": "code",
   "execution_count": null,
   "id": "5359e7ee-e9bb-421b-9e38-9b5ce79f6768",
   "metadata": {},
   "outputs": [],
   "source": [
    "cv_preds_mri = Parallel(n_jobs=1)(\n",
    "    delayed(first_level_pred)(\n",
    "       cv_row=cv_row, X=X_df, y=y, method='decision_function',\n",
    "       estimator=mod_mri\n",
    "   ) for ii, cv_row in df_cv.iterrows()\n",
    ")"
   ]
  },
  {
   "cell_type": "code",
   "execution_count": null,
   "id": "ac7b94e1",
   "metadata": {},
   "outputs": [],
   "source": [
    "print(cv_preds_mri)"
   ]
  },
  {
   "cell_type": "code",
   "execution_count": null,
   "id": "2f1306fb-ed7a-45f8-a8fb-b57d01102997",
   "metadata": {},
   "outputs": [],
   "source": [
    "cv_preds_mri_df = (\n",
    "    pd.concat(cv_preds_mri)\n",
    "      .rename(columns={'preds': 'mri'})\n",
    "      .to_csv('./input/cv_preds_mri.csv')\n",
    ")"
   ]
  }
 ],
 "metadata": {
  "kernelspec": {
   "display_name": "meeg_analysis",
   "language": "python",
   "name": "python3"
  },
  "language_info": {
   "codemirror_mode": {
    "name": "ipython",
    "version": 3
   },
   "file_extension": ".py",
   "mimetype": "text/x-python",
   "name": "python",
   "nbconvert_exporter": "python",
   "pygments_lexer": "ipython3",
   "version": "3.12.7"
  }
 },
 "nbformat": 4,
 "nbformat_minor": 5
}
