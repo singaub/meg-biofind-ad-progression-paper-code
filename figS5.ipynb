{
 "cells": [
  {
   "cell_type": "markdown",
   "id": "8329a6b2",
   "metadata": {},
   "source": [
    "## Code for Suppl Fig 5"
   ]
  },
  {
   "cell_type": "code",
   "execution_count": null,
   "id": "4abbd192",
   "metadata": {},
   "outputs": [],
   "source": [
    "import matplotlib.pyplot as plt\n",
    "import polars as pl\n",
    "import seaborn as sns\n",
    "import numpy as np"
   ]
  },
  {
   "cell_type": "code",
   "execution_count": null,
   "id": "3df4cc93",
   "metadata": {},
   "outputs": [],
   "source": [
    "df_mod5 = pl.read_csv('./BIOFIND/mod5_age_edu_mmse_MEG_MRI_site.csv')"
   ]
  },
  {
   "cell_type": "code",
   "execution_count": null,
   "id": "b9c65293",
   "metadata": {},
   "outputs": [],
   "source": [
    "df_mod5"
   ]
  },
  {
   "cell_type": "code",
   "execution_count": null,
   "id": "58b135f8",
   "metadata": {},
   "outputs": [],
   "source": [
    "df_mod5['lower'].abs(), (df_mod5['AME'] - df_mod5['SE'] * 1.96).abs()"
   ]
  },
  {
   "cell_type": "code",
   "execution_count": null,
   "id": "687aded2",
   "metadata": {},
   "outputs": [],
   "source": [
    "df_mod5['upper'].abs(), (df_mod5['AME'] + df_mod5['SE'] * 1.96).abs()"
   ]
  },
  {
   "cell_type": "code",
   "execution_count": null,
   "id": "68c59f1b",
   "metadata": {},
   "outputs": [],
   "source": [
    "df_mod5 = df_mod5.sort(pl.col('AME').abs(), descending=False)"
   ]
  },
  {
   "cell_type": "code",
   "execution_count": null,
   "id": "939965b3",
   "metadata": {},
   "outputs": [],
   "source": [
    "factors=df_mod5['factor'].to_list()"
   ]
  },
  {
   "cell_type": "code",
   "execution_count": null,
   "id": "8c45ff4c",
   "metadata": {},
   "outputs": [],
   "source": [
    "roc1 = pl.read_csv('./roc_data_mod1.csv')\n",
    "roc2 = pl.read_csv('./roc_data_mod2.csv')\n",
    "roc3 = pl.read_csv('./roc_data_mod3.csv')\n",
    "roc4 = pl.read_csv('./roc_data_mod4.csv')\n",
    "roc5 = pl.read_csv('./roc_data_mod5.csv')\n",
    "rocs =[roc1, roc2, roc3, roc4, roc5]\n",
    "aucs = [0.71, 0.75, 0.81, 0.83, 0.87]"
   ]
  },
  {
   "cell_type": "code",
   "execution_count": null,
   "id": "5a6634bb",
   "metadata": {},
   "outputs": [],
   "source": [
    "mapping = {\n",
    "    'age': 'Age',\n",
    "    'Edu_years': 'Education',\n",
    "     'MMSE': 'MMSE',\n",
    "     'siteCTB': 'Site',\n",
    "     'ratio_Hippocampus_TotalGrayVol': 'Hippocampal ratio',\n",
    "     'meg_average_cluster_adj': 'MEG'\n",
    "}"
   ]
  },
  {
   "cell_type": "code",
   "execution_count": null,
   "id": "4cf637b6",
   "metadata": {},
   "outputs": [],
   "source": [
    "import numpy as np\n",
    "import matplotlib.pyplot as plt\n",
    "import seaborn as sns\n",
    "\n",
    "# Adjust color range to match the number of factors (6 factors, 6 colors)\n",
    "num_factors = len(df_mod5)  # Assuming df_mod5 has 6 rows, adjust as per the actual number of rows\n",
    "colors = plt.cm.viridis(np.linspace(0.1, 0.9, num_factors))\n",
    "\n",
    "sns.set_context('paper', font_scale=1.5)\n",
    "\n",
    "### Panel A\n",
    "\n",
    "# Create the subplot layout with mosaic (Remove Panel B - ROC Curves)\n",
    "fig, ax = plt.subplots(1, 1, figsize=(4, 3.5))  # Adjusted size for a single panel\n",
    "\n",
    "# Plot each factor with its respective color\n",
    "for ii, (factor, ame, se, *_) in enumerate(df_mod5.rows()):\n",
    "    ax.errorbar(\n",
    "        x=ame, y=ii, xerr=se * 1.96, fmt='o', capsize=5, capthick=2.5,\n",
    "        ms=10, linewidth=3, color=colors[ii], mfc='white', mew=3\n",
    "    )\n",
    "\n",
    "ax.axvline(0, linestyle='--', color='gray')\n",
    "\n",
    "# Assuming factors is a list of all factor names in the correct order\n",
    "factors = ['Age', 'Education', 'MMSE', 'Hippocampal ratio', 'MEG', 'Site']\n",
    "\n",
    "# Map factors using a mapping if necessary\n",
    "mapped_factors = [mapping.get(f, f) for f in factors]\n",
    "\n",
    "# Set the y-ticks with the custom order\n",
    "ax.set_yticks(range(len(factors)), mapped_factors)\n",
    "\n",
    "# Set x-ticks and labels with better scaling\n",
    "ax.set_xticks(np.linspace(-0.7, 0.1, 3))  # Set more appropriate number of ticks\n",
    "ax.set_xlim(-0.7, 0.1)  # Extend the x-axis range to make space for data points\n",
    "ax.set_xlabel(r'$\\Delta$ Predicted probability of progressing to AD', loc='right')\n",
    "#ax.text(-0.1, 1, 'a', fontsize='large', transform=ax.transAxes, weight='bold')\n",
    "\n",
    "# Remove the spines for cleaner look\n",
    "sns.despine(trim=True, ax=ax)\n",
    "\n",
    "# Save the figure\n",
    "fig.savefig('fig_2_R1_suppl_site_panelA.pdf', bbox_inches='tight')\n",
    "fig.savefig('fig_2_R1_suppl_site_panelA.png', dpi=300, bbox_inches='tight')\n"
   ]
  }
 ],
 "metadata": {
  "kernelspec": {
   "display_name": "Python 3",
   "language": "python",
   "name": "python3"
  },
  "language_info": {
   "codemirror_mode": {
    "name": "ipython",
    "version": 3
   },
   "file_extension": ".py",
   "mimetype": "text/x-python",
   "name": "python",
   "nbconvert_exporter": "python",
   "pygments_lexer": "ipython3",
   "version": "3.10.10"
  }
 },
 "nbformat": 4,
 "nbformat_minor": 5
}
